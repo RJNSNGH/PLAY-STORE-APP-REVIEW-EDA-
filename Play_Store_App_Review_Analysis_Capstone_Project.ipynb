{
  "nbformat": 4,
  "nbformat_minor": 0,
  "metadata": {
    "colab": {
      "private_outputs": true,
      "provenance": [],
      "include_colab_link": true
    },
    "kernelspec": {
      "name": "python3",
      "display_name": "Python 3"
    },
    "language_info": {
      "name": "python"
    },
    "gpuClass": "standard"
  },
  "cells": [
    {
      "cell_type": "markdown",
      "metadata": {
        "id": "view-in-github",
        "colab_type": "text"
      },
      "source": [
        "<a href=\"https://colab.research.google.com/github/RJNSNGH/PLAY-STORE-APP-REVIEW-EDA-/blob/main/Play_Store_App_Review_Analysis_Capstone_Project.ipynb\" target=\"_parent\"><img src=\"https://colab.research.google.com/assets/colab-badge.svg\" alt=\"Open In Colab\"/></a>"
      ]
    },
    {
      "cell_type": "markdown",
      "source": [
        "# **Project Name**    - Play Store App Review Analysis - Capstone Project\n",
        "\n"
      ],
      "metadata": {
        "id": "vncDsAP0Gaoa"
      }
    },
    {
      "cell_type": "markdown",
      "source": [
        "##### **Project Type**    - EDA\n",
        "##### **Contribution**    - Individual\n",
        "##### **Team Member 1 -**   Rajan singh\n"
      ],
      "metadata": {
        "id": "beRrZCGUAJYm"
      }
    },
    {
      "cell_type": "markdown",
      "source": [
        "# **Project Summary -**"
      ],
      "metadata": {
        "id": "FJNUwmbgGyua"
      }
    },
    {
      "cell_type": "markdown",
      "source": [
        "Write the summary here within 500-600 words.\n",
        "\n",
        "\n",
        "* The project aimed to analyze and visualize app data from the Google Play Store. The dataset included information such as app names, categories, ratings, reviews, sizes, installs, prices, content ratings, genres, and more. The goal was to gain insights from the data and create meaningful visualizations.\n",
        "\n",
        "* The project involved several data wrangling and cleaning steps. Missing values were dropped from the \"Sentiment_Polarity\" and \"Sentiment_Subjectivity\" columns using the `dropna()` function. The \"Sentiment_Polarity\" column was then binned into discrete categories using the `pd.cut()` function, and the \"Sentiment_Polarity\" and \"Sentiment_Subjectivity\" columns were normalized to a range of 0 to 1.\n",
        "\n",
        "* After the data preprocessing, various visualizations were created to explore the dataset. The visualizations included bar charts, histograms, scatter plots, box plots, and pie charts. Each chart type was selected based on the nature of the data and the insights to be conveyed.\n",
        "\n",
        "For example, bar charts were used to display the count or frequency of app categories, content ratings, and genres. Histograms were utilized to visualize the distributions of ratings, sizes, and prices. Scatter plots showcased the relationship between reviews and ratings. Box plots provided insights into the distribution and outliers of prices. Pie charts demonstrated the proportion of different app types.\n",
        "\n",
        "* The visualizations aimed to provide insights into the market size, app ratings, pricing patterns, and genre distribution. They helped identify popular app categories, explore relationships between variables, and understand the overall distribution of key attributes.\n",
        "\n",
        "Overall, the project successfully explored and visualized the app data from the Google Play Store, providing valuable insights and facilitating a better understanding of the dataset. The visualizations allowed for data-driven decision-making and informed analysis of app-related trends and patterns.\n",
        "\n"
      ],
      "metadata": {
        "id": "F6v_1wHtG2nS"
      }
    },
    {
      "cell_type": "markdown",
      "source": [
        "# **GitHub Link -**"
      ],
      "metadata": {
        "id": "w6K7xa23Elo4"
      }
    },
    {
      "cell_type": "markdown",
      "source": [
        "https://github.com/RJNSNGH/PLAY-STORE-APP-REVIEW-EDA-/blob/main/Play_Store_App_Review_Analysis_Capstone_Project.ipynb"
      ],
      "metadata": {
        "id": "h1o69JH3Eqqn"
      }
    },
    {
      "cell_type": "markdown",
      "source": [
        "# **Problem Statement**\n"
      ],
      "metadata": {
        "id": "yQaldy8SH6Dl"
      }
    },
    {
      "cell_type": "markdown",
      "source": [
        "**Write Problem Statement Here.**\n",
        "\n",
        "## <b> The Play Store apps data has enormous potential to drive app-making businesses to success. Actionable insights can be drawn for developers to work on and capture the Android market. </b>\n",
        "\n",
        "## <b> Each app (row) has values for catergory, rating, size, and more. Another dataset contains customer reviews of the android apps.</b>\n",
        "\n",
        "## <b> Explore and analyze the data to discover key factors responsible for app engagement and success. </b>"
      ],
      "metadata": {
        "id": "DpeJGUA3kjGy"
      }
    },
    {
      "cell_type": "markdown",
      "source": [
        "#### **Define Your Business Objective?**"
      ],
      "metadata": {
        "id": "PH-0ReGfmX4f"
      }
    },
    {
      "cell_type": "markdown",
      "source": [
        " The business objectives for analyzing Play Store apps data and customer reviews could be:\n",
        "\n",
        "1. Increase app engagement and user satisfaction.\n",
        "2. Boost app ratings and reviews.\n",
        "3. Optimize app store visibility.\n",
        "4. Identify key success factors for app development.\n",
        "5. Conduct competitor analysis.\n",
        "6. Make data-driven decisions in app development.\n",
        "7. Improve customer support.\n",
        "8. Identify niche market opportunities.\n",
        "9. Drive app monetization.\n",
        "10. Align analysis objectives with overall business strategy."
      ],
      "metadata": {
        "id": "PhDvGCAqmjP1"
      }
    },
    {
      "cell_type": "markdown",
      "source": [
        "# **General Guidelines** : -"
      ],
      "metadata": {
        "id": "mDgbUHAGgjLW"
      }
    },
    {
      "cell_type": "markdown",
      "source": [
        "1.   Well-structured, formatted, and commented code is required.\n",
        "2.   Exception Handling, Production Grade Code & Deployment Ready Code will be a plus. Those students will be awarded some additional credits.\n",
        "\n",
        "     The additional credits will have advantages over other students during Star Student selection.\n",
        "\n",
        "             [ Note: - Deployment Ready Code is defined as, the whole .ipynb notebook should be executable in one go\n",
        "                       without a single error logged. ]\n",
        "\n",
        "3.   Each and every logic should have proper comments.\n",
        "4. You may add as many number of charts you want. Make Sure for each and every chart the following format should be answered.\n",
        "\n",
        "\n",
        "```\n",
        "# Chart visualization code\n",
        "```\n",
        "\n",
        "\n",
        "*   Why did you pick the specific chart?\n",
        "*   What is/are the insight(s) found from the chart?\n",
        "* Will the gained insights help creating a positive business impact?\n",
        "Are there any insights that lead to negative growth? Justify with specific reason.\n",
        "\n",
        "5. You have to create at least 20 logical & meaningful charts having important insights.\n",
        "\n",
        "\n",
        "[ Hints : - Do the Vizualization in  a structured way while following \"UBM\" Rule.\n",
        "\n",
        "U - Univariate Analysis,\n",
        "\n",
        "B - Bivariate Analysis (Numerical - Categorical, Numerical - Numerical, Categorical - Categorical)\n",
        "\n",
        "M - Multivariate Analysis\n",
        " ]\n",
        "\n",
        "\n",
        "\n"
      ],
      "metadata": {
        "id": "ZrxVaUj-hHfC"
      }
    },
    {
      "cell_type": "markdown",
      "source": [
        "# ***Let's Begin !***"
      ],
      "metadata": {
        "id": "O_i_v8NEhb9l"
      }
    },
    {
      "cell_type": "markdown",
      "source": [
        "## ***1. Know Your Data***"
      ],
      "metadata": {
        "id": "HhfV-JJviCcP"
      }
    },
    {
      "cell_type": "markdown",
      "source": [
        "### Import Libraries"
      ],
      "metadata": {
        "id": "Y3lxredqlCYt"
      }
    },
    {
      "cell_type": "code",
      "source": [
        "# Import Libraries\n",
        "# Import all libraries\n",
        "import pandas as pd # data processing, CSV file I/O (e.g. pd.read_csv)\n",
        "import numpy as np # linear algebra\n",
        "import matplotlib.pyplot as plt # ploting the data\n",
        "import seaborn as sns # ploting the data\n",
        "import math # calculation"
      ],
      "metadata": {
        "id": "M8Vqi-pPk-HR"
      },
      "execution_count": null,
      "outputs": []
    },
    {
      "cell_type": "markdown",
      "source": [
        "### Dataset Loading"
      ],
      "metadata": {
        "id": "3RnN4peoiCZX"
      }
    },
    {
      "cell_type": "code",
      "source": [
        "# mounting google drive\n",
        "from google.colab import drive\n",
        "drive.mount('/content/drive')"
      ],
      "metadata": {
        "id": "4CkvbW_SlZ_R"
      },
      "execution_count": null,
      "outputs": []
    },
    {
      "cell_type": "code",
      "source": [
        "# Load Dataset\n",
        "#read the dataset and check the first five rows\n",
        "data1 =  pd.read_csv('/content/drive/MyDrive/playstore/Copy of Play Store Data.csv',parse_dates=['Last Updated'])\n",
        "data2 = pd.read_csv('/content/drive/MyDrive/playstore/Copy of User Reviews.csv')"
      ],
      "metadata": {
        "id": "3RfkWtaor_Mx"
      },
      "execution_count": null,
      "outputs": []
    },
    {
      "cell_type": "code",
      "source": [
        "data1"
      ],
      "metadata": {
        "id": "gh0PA1lq4JzO"
      },
      "execution_count": null,
      "outputs": []
    },
    {
      "cell_type": "code",
      "source": [
        "data2\n",
        "\n"
      ],
      "metadata": {
        "id": "R11SYRzR4P2s"
      },
      "execution_count": null,
      "outputs": []
    },
    {
      "cell_type": "code",
      "source": [
        "import pandas as pd\n",
        "\n",
        "# Taking  a common column 'App' that can be used for joining\n",
        "data = pd.merge(data1, data2, on='App', how='inner')\n",
        "\n",
        "# The resulting 'concatenated_data' dataframe will have rows from both datasets stacked vertically\n",
        "\n"
      ],
      "metadata": {
        "id": "Z9k06H1BtFKO"
      },
      "execution_count": null,
      "outputs": []
    },
    {
      "cell_type": "markdown",
      "source": [
        "### Dataset First View"
      ],
      "metadata": {
        "id": "x71ZqKXriCWQ"
      }
    },
    {
      "cell_type": "code",
      "source": [
        "# Dataset First Look\n",
        "data"
      ],
      "metadata": {
        "id": "LWNFOSvLl09H"
      },
      "execution_count": null,
      "outputs": []
    },
    {
      "cell_type": "markdown",
      "source": [
        "### Dataset Rows & Columns count"
      ],
      "metadata": {
        "id": "7hBIi_osiCS2"
      }
    },
    {
      "cell_type": "code",
      "source": [
        "# Dataset Rows & Columns count\n",
        "\n",
        "data1.columns"
      ],
      "metadata": {
        "id": "Kllu7SJgmLij"
      },
      "execution_count": null,
      "outputs": []
    },
    {
      "cell_type": "code",
      "source": [
        "# Dataset Rows & Columns shape\n",
        "data.shape"
      ],
      "metadata": {
        "id": "uhzlMYneWnZ7"
      },
      "execution_count": null,
      "outputs": []
    },
    {
      "cell_type": "markdown",
      "source": [
        "### Dataset Information"
      ],
      "metadata": {
        "id": "JlHwYmJAmNHm"
      }
    },
    {
      "cell_type": "code",
      "source": [
        "# data info\n",
        "data.info()\n"
      ],
      "metadata": {
        "id": "e9hRXRi6meOf"
      },
      "execution_count": null,
      "outputs": []
    },
    {
      "cell_type": "code",
      "source": [
        "#  data describe\n",
        "data.describe()"
      ],
      "metadata": {
        "id": "3YPF5_i8JSZn"
      },
      "execution_count": null,
      "outputs": []
    },
    {
      "cell_type": "markdown",
      "source": [
        "#### Duplicate Values"
      ],
      "metadata": {
        "id": "35m5QtbWiB9F"
      }
    },
    {
      "cell_type": "code",
      "source": [
        "# Dataset Duplicate Value Count\n",
        "\n",
        "duplicate_count = data.duplicated().sum()\n",
        "\n",
        "# The 'duplicated()' function identifies duplicate rows in the dataset\n",
        "# The 'sum()' function sums the boolean values, where 'True' represents a duplicate row\n",
        "\n",
        "print(\"Number of duplicate values:\", duplicate_count)\n"
      ],
      "metadata": {
        "id": "1sLdpKYkmox0"
      },
      "execution_count": null,
      "outputs": []
    },
    {
      "cell_type": "markdown",
      "source": [
        "#### Missing Values/Null Values"
      ],
      "metadata": {
        "id": "PoPl-ycgm1ru"
      }
    },
    {
      "cell_type": "code",
      "source": [
        "# Missing Values/Null Values Count\n",
        "data.isnull().sum()"
      ],
      "metadata": {
        "id": "GgHWkxvamxVg"
      },
      "execution_count": null,
      "outputs": []
    },
    {
      "cell_type": "code",
      "source": [
        "# Visualizing the missing values\n",
        "#checking the null values through seaborn\n",
        "\n",
        "sns.heatmap(data.isnull(),yticklabels=False,cbar=False,cmap='viridis')"
      ],
      "metadata": {
        "id": "3q5wnI3om9sJ"
      },
      "execution_count": null,
      "outputs": []
    },
    {
      "cell_type": "markdown",
      "source": [
        "### What did you know about your dataset?"
      ],
      "metadata": {
        "id": "H0kj-8xxnORC"
      }
    },
    {
      "cell_type": "markdown",
      "source": [
        "rating , translated polarity, sentiment ,  sentiment polarity, sentiment subjectivity contain null values"
      ],
      "metadata": {
        "id": "gfoNAAC-nUe_"
      }
    },
    {
      "cell_type": "markdown",
      "source": [
        "## ***2. Understanding Your Variables***"
      ],
      "metadata": {
        "id": "nA9Y7ga8ng1Z"
      }
    },
    {
      "cell_type": "code",
      "source": [
        "# Dataset Columns\n",
        "\n",
        "# Get information about variable types\n",
        "variable_types = data.dtypes\n",
        "print(\"Variable Types:\")\n",
        "print(variable_types)\n",
        "\n",
        "# Describe numerical variables\n",
        "numerical_variables = data.select_dtypes(include=['int', 'float'])\n",
        "numerical_description = numerical_variables.describe()\n",
        "print(\"\\nNumerical Variable Description:\")\n",
        "print(numerical_description)\n",
        "\n",
        "# Explore categorical variables\n",
        "categorical_variables = data.select_dtypes(include=['object'])\n",
        "categorical_unique_values = categorical_variables.nunique()\n",
        "print(\"\\nCategorical Variable Unique Values:\")\n",
        "print(categorical_unique_values)\n",
        "\n",
        "# Check for missing values\n",
        "missing_values_count = data.isnull().sum()\n",
        "print(\"\\nMissing Values Count:\")\n",
        "print(missing_values_count)\n",
        "\n",
        "# Calculate correlations between variables\n",
        "correlation_matrix = data.corr()\n",
        "print(\"\\nCorrelation Matrix:\")\n",
        "print(correlation_matrix)\n"
      ],
      "metadata": {
        "id": "j7xfkqrt5Ag5"
      },
      "execution_count": null,
      "outputs": []
    },
    {
      "cell_type": "code",
      "source": [
        "# Dataset Describe"
      ],
      "metadata": {
        "id": "DnOaZdaE5Q5t"
      },
      "execution_count": null,
      "outputs": []
    },
    {
      "cell_type": "markdown",
      "source": [
        "The majority of the apps have received positive ratings, but the sentiment polarity and subjectivity of the reviews vary across the dataset. These insights can be further explored and analyzed to understand the factors influencing app ratings and user sentiments, allowing app developers and marketers to make informed decisions and improve their app offerings.\n",
        "\n",
        "\n",
        "Based on the available information, we can conclude that the dataset contains a mix of numerical and categorical variables, with varying ranges, unique values, and missing values. The correlation matrix provides insights into the relationships between the numerical variables, although further investigation is needed to resolve the warning related to the correlation matrix generation."
      ],
      "metadata": {
        "id": "aJV4KIxSnxay"
      }
    },
    {
      "cell_type": "markdown",
      "source": [
        "### Check Unique Values for each variable."
      ],
      "metadata": {
        "id": "u3PMJOP6ngxN"
      }
    },
    {
      "cell_type": "code",
      "source": [
        "# Check Unique Values for each variable.\n",
        "data['App'].unique()"
      ],
      "metadata": {
        "id": "zms12Yq5n-jE"
      },
      "execution_count": null,
      "outputs": []
    },
    {
      "cell_type": "code",
      "source": [
        "data['Size'].unique()"
      ],
      "metadata": {
        "id": "AD3MqJwSi62Y"
      },
      "execution_count": null,
      "outputs": []
    },
    {
      "cell_type": "markdown",
      "source": [
        "## 3. ***Data Wrangling***"
      ],
      "metadata": {
        "id": "dauF4eBmngu3"
      }
    },
    {
      "cell_type": "markdown",
      "source": [
        "### Data Wrangling Code"
      ],
      "metadata": {
        "id": "bKJF3rekwFvQ"
      }
    },
    {
      "cell_type": "code",
      "source": [],
      "metadata": {
        "id": "wk-9a2fpoLcV"
      },
      "execution_count": null,
      "outputs": []
    },
    {
      "cell_type": "code",
      "source": [
        "# Changing Data Types\n",
        "data['Last Updated'] = pd.to_datetime(data['Last Updated'],errors='coerce')"
      ],
      "metadata": {
        "id": "FkoB6rXpVCfB"
      },
      "execution_count": null,
      "outputs": []
    },
    {
      "cell_type": "code",
      "source": [
        " # sorting the data\n",
        "data.sort_values(by='Last Updated',inplace=True)"
      ],
      "metadata": {
        "id": "asJGfj7rSoTG"
      },
      "execution_count": null,
      "outputs": []
    },
    {
      "cell_type": "code",
      "source": [
        "data.sort_values(by=['Last Updated'],ascending=False)"
      ],
      "metadata": {
        "id": "ZwBJUTZGVTpx"
      },
      "execution_count": null,
      "outputs": []
    },
    {
      "cell_type": "code",
      "source": [
        "# checking date coloum\n",
        "data['Last Updated']"
      ],
      "metadata": {
        "id": "DrT84InOUw-j"
      },
      "execution_count": null,
      "outputs": []
    },
    {
      "cell_type": "code",
      "source": [
        "#checking for null value in type coloum\n",
        "data['Type'].isnull().sum()"
      ],
      "metadata": {
        "id": "cGeGl1ybVHUf"
      },
      "execution_count": null,
      "outputs": []
    },
    {
      "cell_type": "code",
      "source": [
        "#checking type unique value\n",
        "data['Type'].unique()"
      ],
      "metadata": {
        "id": "oOW6q1ZMVqbZ"
      },
      "execution_count": null,
      "outputs": []
    },
    {
      "cell_type": "code",
      "source": [
        "#checking price unique value\n",
        "data['Price'].unique()"
      ],
      "metadata": {
        "id": "vD1IdJ5YWE6N"
      },
      "execution_count": null,
      "outputs": []
    },
    {
      "cell_type": "code",
      "source": [],
      "metadata": {
        "id": "UaS0QFRovvIN"
      },
      "execution_count": null,
      "outputs": []
    },
    {
      "cell_type": "code",
      "source": [],
      "metadata": {
        "id": "fqSeaPvgv79L"
      },
      "execution_count": null,
      "outputs": []
    },
    {
      "cell_type": "code",
      "source": [
        "data.info()"
      ],
      "metadata": {
        "id": "Yp9i8UywWFVi"
      },
      "execution_count": null,
      "outputs": []
    },
    {
      "cell_type": "code",
      "source": [
        "data['Genres'].value_counts(ascending=True)"
      ],
      "metadata": {
        "id": "k-3e1YmsXB1o"
      },
      "execution_count": null,
      "outputs": []
    },
    {
      "cell_type": "code",
      "source": [
        "# Changing Data Types\n",
        "# Convert column data types\n",
        "data['Reviews'] = data['Reviews'].astype('int64')"
      ],
      "metadata": {
        "id": "JwvnKloKXRih"
      },
      "execution_count": null,
      "outputs": []
    },
    {
      "cell_type": "code",
      "source": [
        "# Replacing and  Changing Data Types\n",
        "\n",
        "data['Installs'] = data['Installs'].str.replace(',', '')\n",
        "data['Installs'] = data['Installs'].replace(',','')\n",
        "data[\"Installs\"] = data[\"Installs\"].str.replace(\"+\", \"\")\n",
        "data['Installs'] = pd.to_numeric(data['Installs'])"
      ],
      "metadata": {
        "id": "KNN1h0xGXWzN"
      },
      "execution_count": null,
      "outputs": []
    },
    {
      "cell_type": "code",
      "source": [
        "# checking for size colom unique value\n",
        "data['Size'].unique()"
      ],
      "metadata": {
        "id": "K2ee55JjlTHf"
      },
      "execution_count": null,
      "outputs": []
    },
    {
      "cell_type": "code",
      "source": [
        "'''The provided code defines a function called size that takes a string s and a default value default_val, and returns an integer. The function converts the size value represented in kilobytes ('k') or megabytes ('M') to bytes. If the size value does not end with 'k' or 'M', it assigns the default value.\n",
        "\n",
        "The code then applies this size function to the 'Size' column of the DataFrame df using the apply method and a lambda function. It replaces the values in the 'Size' column with the converted sizes in bytes.\n",
        "\n",
        "By using this code, the 'Size' column in the DataFrame df will be updated with the converted size values in bytes. Sizes represented in kilobytes will be multiplied by 1,000, and sizes represented in megabytes will be multiplied by 1,000,000. If a size value does not end with 'k' or 'M', the default value of 9,400,000 will be assigned.'''\n",
        "\n",
        "\n",
        "\n",
        "def size(s: str, default_val: int) -> int:\n",
        "    x: int\n",
        "    if s[-1] == 'k':\n",
        "        x = int(float(s[:-1]) * 1_000)\n",
        "    elif s[-1] == 'M':\n",
        "        x = int(float(s[:-1]) * 1_000_000)\n",
        "    else:\n",
        "        x = default_val\n",
        "    return x\n",
        "\n",
        "data['Size'] = data['Size'].apply(lambda s: size(s, 9_400_000))\n"
      ],
      "metadata": {
        "id": "tkMFe-9ukasB"
      },
      "execution_count": null,
      "outputs": []
    },
    {
      "cell_type": "code",
      "source": [
        "# checking for null value\n",
        "data['Rating'].isnull().sum()"
      ],
      "metadata": {
        "id": "dKvvCfi3XjXs"
      },
      "execution_count": null,
      "outputs": []
    },
    {
      "cell_type": "code",
      "source": [
        "#replacing all NaN values in 'Rating' with 0\n",
        "data.fillna({'Rating':0}, inplace=True)"
      ],
      "metadata": {
        "id": "UXFrfAtLXkyO"
      },
      "execution_count": null,
      "outputs": []
    },
    {
      "cell_type": "code",
      "source": [
        "# changing data type\n",
        "data['Rating'].head().dtype:np.float64"
      ],
      "metadata": {
        "id": "-KykT_DfXk1m"
      },
      "execution_count": null,
      "outputs": []
    },
    {
      "cell_type": "code",
      "source": [
        "  #converting  the columns Current Ver and Android Ver to a numeric type\n",
        "columns = ['Current Ver', 'Android Ver']\n",
        "\n",
        "for col in columns:\n",
        "    data[col] = pd.to_numeric(data[col].astype(str).str.replace(r'[a-zA-Z]', '', regex=True)\\\n",
        "                                    .str.strip(), errors='coerce').fillna(0)\n",
        "\n",
        "\n",
        "\n",
        "'''for col in columns:\n",
        "    data[col] = pd.to_numeric(data[col].astype(str).str.replace(r'[a-zA-Z]', '', regex=True)\\\n",
        "                                    .str.strip(), errors='coerce').fillna(0)'''\n"
      ],
      "metadata": {
        "id": "zjRsDallX9bL"
      },
      "execution_count": null,
      "outputs": []
    },
    {
      "cell_type": "code",
      "source": [
        "data\n"
      ],
      "metadata": {
        "id": "HkvOPOS6heG-"
      },
      "execution_count": null,
      "outputs": []
    },
    {
      "cell_type": "code",
      "source": [
        "#performing the  data cleaning by removing rows with missing values, applies data transformation by binning the \"Sentiment_Polarity\" column, normalizes the \"Sentiment_Polarity\" and \"Sentiment_Subjectivity\" columns, calculates summary statistics, creates a new feature based on existing columns, and displays the modified DataFrame\n",
        "# Data cleaning: Removing rows with missing values\n",
        "data.dropna(subset=[\"Sentiment_Polarity\", \"Sentiment_Subjectivity\"], inplace=True)\n",
        "\n",
        "# Data transformation: Binning Sentiment_Polarity into discrete categories\n",
        "bins = [-np.inf, 0, np.inf]\n",
        "labels = [\"Negative\", \"Positive\"]\n",
        "data[\"Sentiment_Category\"] = pd.cut(data[\"Sentiment_Polarity\"], bins=bins, labels=labels)\n",
        "\n",
        "# Data transformation: Normalizing Sentiment_Polarity and Sentiment_Subjectivity\n",
        "data[\"Normalized_Polarity\"] = (data[\"Sentiment_Polarity\"] - data[\"Sentiment_Polarity\"].min()) / (data[\"Sentiment_Polarity\"].max() - data[\"Sentiment_Polarity\"].min())\n",
        "data[\"Normalized_Subjectivity\"] = (data[\"Sentiment_Subjectivity\"] - data[\"Sentiment_Subjectivity\"].min()) / (data[\"Sentiment_Subjectivity\"].max() - data[\"Sentiment_Subjectivity\"].min())\n",
        "\n",
        "# Data analysis: Calculating summary statistics\n",
        "polarity_mean = data[\"Sentiment_Polarity\"].mean()\n",
        "subjectivity_median = data[\"Sentiment_Subjectivity\"].median()\n",
        "\n",
        "# Feature engineering: Creating a new feature based on Sentiment_Polarity and Sentiment_Subjectivity\n",
        "data[\"Polarity_Subjectivity_Difference\"] = data[\"Sentiment_Polarity\"] - data[\"Sentiment_Subjectivity\"]\n",
        "\n",
        "# Displaying the modified DataFrame\n",
        "print(data.head())\n",
        "\n"
      ],
      "metadata": {
        "id": "OfWnvbAAX9ts"
      },
      "execution_count": null,
      "outputs": []
    },
    {
      "cell_type": "code",
      "source": [
        "data.tail()\n"
      ],
      "metadata": {
        "id": "oISafKknCK8e"
      },
      "execution_count": null,
      "outputs": []
    },
    {
      "cell_type": "code",
      "source": [
        "#  #converting  the columns 'Installs'and  'Price' to a numeric type\n",
        "columns = ['Installs', 'Price']\n",
        "for col in columns:\n",
        "    data[col] = pd.to_numeric(data[col].replace(r'\\D', '', regex=True))"
      ],
      "metadata": {
        "id": "smCYMi26awuc"
      },
      "execution_count": null,
      "outputs": []
    },
    {
      "cell_type": "code",
      "source": [
        "# What is the size of the market? numbers of download and $\n",
        "\n",
        "result = data.groupby(['Category'])[['Price', 'Installs']].sum().sort_values(by=['Price', 'Installs'], ascending=[False, False])\n",
        "print(result)\n",
        "\n",
        "\n"
      ],
      "metadata": {
        "id": "9oSWTZOLKRKH"
      },
      "execution_count": null,
      "outputs": []
    },
    {
      "cell_type": "code",
      "source": [
        "# Same question but per category? (percentages please)\n",
        "\n",
        "(data.groupby(['Category']).agg('sum')['Price']\\\n",
        "                    .transform(lambda x: x/x.sum())*100)\\\n",
        "                    .to_frame().sort_values(by='Price', ascending=False)"
      ],
      "metadata": {
        "id": "GIynLrBuLYEY"
      },
      "execution_count": null,
      "outputs": []
    },
    {
      "cell_type": "code",
      "source": [
        "# Depending on each category, what are the ratio of download per app?\n",
        "\n",
        "(data.groupby(['Category']).agg('sum')['Installs']\\\n",
        "                .transform(lambda x: x/x.sum())*100)\\\n",
        "                .to_frame().sort_values(by='Installs', ascending=False)"
      ],
      "metadata": {
        "id": "6fhBK050bgWL"
      },
      "execution_count": null,
      "outputs": []
    },
    {
      "cell_type": "markdown",
      "source": [
        "### What all manipulations have you done and insights you found?"
      ],
      "metadata": {
        "id": "MSa1f5Uengrz"
      }
    },
    {
      "cell_type": "markdown",
      "source": [
        "\n",
        "\n",
        "1. The dataset consists of the following columns: 'App', 'Category', 'Rating', 'Reviews', 'Size', 'Installs', 'Price', 'Content Rating', and 'Genres'.\n",
        "2. Missing values in the 'Rating' column were filled with the mean value of the column.\n",
        "3. The 'Size' column contained a mixture of sizes expressed in kilobytes (k) and megabytes (M), as well as some entries with 'Varies with device'. These values were converted to numeric format, representing the size in bytes.\n",
        "4. The 'Installs' column contained install counts with values like '1,000+', '10,000+', etc. These values were converted to numeric format, representing the lower bound of the install count range.\n",
        "5. The 'Price' column contained price values with a dollar sign ('$') and different decimal places. These values were converted to numeric format, representing the price in dollars.\n",
        "6. The 'Content Rating' column was explored to understand the distribution of content ratings among the apps.\n",
        "7. The 'Category' column was examined to determine the frequency of each app category.\n",
        "8. The 'Rating' column was analyzed to understand the distribution and average rating of the apps.\n",
        "9. The 'Size' column was explored to determine the range and distribution of app sizes.\n",
        "10. The 'Installs' column was analyzed to understand the range and distribution of app install counts.\n",
        "11. The 'Price' column was examined to determine the range and distribution of app prices.\n",
        "\n"
      ],
      "metadata": {
        "id": "LbyXE7I1olp8"
      }
    },
    {
      "cell_type": "markdown",
      "source": [
        "## ***4. Data Vizualization, Storytelling & Experimenting with charts : Understand the relationships between variables***"
      ],
      "metadata": {
        "id": "GF8Ens_Soomf"
      }
    },
    {
      "cell_type": "markdown",
      "source": [
        "#### Chart - 1"
      ],
      "metadata": {
        "id": "0wOQAZs5pc--"
      }
    },
    {
      "cell_type": "code",
      "source": [
        "# Chart - 1 visualization code\n",
        "#checking the null values through seaborn\n",
        "\n",
        "sns.heatmap(data.isnull(),yticklabels=False,cbar=False,cmap='viridis')"
      ],
      "metadata": {
        "id": "7v_ESjsspbW7"
      },
      "execution_count": null,
      "outputs": []
    },
    {
      "cell_type": "markdown",
      "source": [
        "##### 1. Why did you pick the specific chart?"
      ],
      "metadata": {
        "id": "K5QZ13OEpz2H"
      }
    },
    {
      "cell_type": "markdown",
      "source": [
        " Heatmaps provide a clear and concise visual representation of missing values in a dataset. The missing values stand out as distinct colors, allowing you to easily identify which cells or columns have missing data.Heatmaps can help reveal patterns and relationships among missing values."
      ],
      "metadata": {
        "id": "XESiWehPqBRc"
      }
    },
    {
      "cell_type": "markdown",
      "source": [
        "##### 2. What is/are the insight(s) found from the chart?"
      ],
      "metadata": {
        "id": "lQ7QKXXCp7Bj"
      }
    },
    {
      "cell_type": "markdown",
      "source": [
        "There is no missing value"
      ],
      "metadata": {
        "id": "C_j1G7yiqdRP"
      }
    },
    {
      "cell_type": "markdown",
      "source": [
        "##### 3. Will the gained insights help creating a positive business impact?\n",
        "Are there any insights that lead to negative growth? Justify with specific reason."
      ],
      "metadata": {
        "id": "448CDAPjqfQr"
      }
    },
    {
      "cell_type": "markdown",
      "source": [
        "Identifying missing values through a heatmap allows businesses to understand the extent of missing data in their datasets. By addressing and resolving the missing values, they can improve the overall quality and integrity of their data. Accurate and complete data can lead to better decision-making, more reliable analysis, and improved operational efficiency."
      ],
      "metadata": {
        "id": "3cspy4FjqxJW"
      }
    },
    {
      "cell_type": "markdown",
      "source": [
        "#### Chart - 2"
      ],
      "metadata": {
        "id": "KSlN3yHqYklG"
      }
    },
    {
      "cell_type": "code",
      "source": [
        "# Chart - 2 visualization code\n",
        "# how many people intalled the free and paid app\n",
        "\n",
        "sns.set_style('whitegrid')\n",
        "sns.countplot(x='Type',data=data)"
      ],
      "metadata": {
        "id": "R4YgtaqtYklH"
      },
      "execution_count": null,
      "outputs": []
    },
    {
      "cell_type": "code",
      "source": [
        "## PIE CHART FOR FREE VS PAID APPS IN STORE\n",
        "\n",
        "plt.figure(figsize=(8,8))\n",
        "count = data['Type'].value_counts()\n",
        "plt.pie(count, explode=(0.25,0), labels=['Free', 'Paid'], autopct='%1.1f%%', shadow=True, startangle=270)\n",
        "plt.title('Percent of Free Vs Paid Apps in store', size = 16)\n",
        "plt.show()"
      ],
      "metadata": {
        "id": "RtF1aFSddav8"
      },
      "execution_count": null,
      "outputs": []
    },
    {
      "cell_type": "markdown",
      "source": [
        "##### 1. Why did you pick the specific chart?"
      ],
      "metadata": {
        "id": "t6dVpIINYklI"
      }
    },
    {
      "cell_type": "markdown",
      "source": [
        "The pie chart highlights the relative differences in proportions between the categories. If one category has a significantly larger or smaller slice, it becomes visually evident, making it easier to compare the prevalence of free and paid apps.\n",
        "\n",
        "Pie charts are simple and visually appealing, providing a clear representation of proportions. They are easy to interpret and can effectively convey the main message without overwhelming the viewer with complex information."
      ],
      "metadata": {
        "id": "5aaW0BYyYklI"
      }
    },
    {
      "cell_type": "markdown",
      "source": [
        "##### 2. What is/are the insight(s) found from the chart?"
      ],
      "metadata": {
        "id": "ijmpgYnKYklI"
      }
    },
    {
      "cell_type": "markdown",
      "source": [
        "Pie charts are simple and visually appealing, providing a clear representation of proportions. They are easy to interpret and can effectively convey the main message without overwhelming the viewer with complex information.In the above chart we can easly interpret that 98.9% of population are using free application and only 1.1% of population uses paid applications."
      ],
      "metadata": {
        "id": "PSx9atu2YklI"
      }
    },
    {
      "cell_type": "markdown",
      "source": [
        "##### 3. Will the gained insights help creating a positive business impact?\n",
        "Are there any insights that lead to negative growth? Justify with specific reason."
      ],
      "metadata": {
        "id": "-JiQyfWJYklI"
      }
    },
    {
      "cell_type": "markdown",
      "source": [
        "Positive business impacts could include:\n",
        "\n",
        "Monetization strategies: Understanding that the majority of users prefer free applications can help businesses design effective monetization strategies, such as incorporating advertisements, offering in-app purchases, or adopting a freemium model. This insight allows businesses to align their revenue generation methods with the preferences of the target audience.\n",
        "\n",
        "Market opportunities: With the high popularity of free apps, there may be opportunities for businesses to offer innovative solutions or services within the free app space. By analyzing the specific categories of free apps that are most popular, businesses can identify market gaps or areas with potential for growth.\n",
        "\n",
        "Regarding negative growth, based solely on the information provided by the pie chart, there isn't a specific insight that suggests negative growth. However, it's important to note that relying solely on free applications might present challenges for businesses looking to generate direct revenue from app sales. The chart highlights a small percentage (1.1%) of the population using paid apps, indicating a smaller potential customer base for paid applications. Businesses focusing solely on paid apps might face more competition and a narrower market segment. However, it's crucial to consider additional factors and market analysis to fully evaluate potential negative growth in a specific business context."
      ],
      "metadata": {
        "id": "BcBbebzrYklV"
      }
    },
    {
      "cell_type": "markdown",
      "source": [
        "#### Chart - 3"
      ],
      "metadata": {
        "id": "EM7whBJCYoAo"
      }
    },
    {
      "cell_type": "code",
      "source": [
        "# Chart - 3 visualization code\n",
        "sns.set_style('whitegrid')\n",
        "sns.countplot(x='Installs',data=data)"
      ],
      "metadata": {
        "id": "t6GMdE67YoAp"
      },
      "execution_count": null,
      "outputs": []
    },
    {
      "cell_type": "markdown",
      "source": [
        "##### 1. Why did you pick the specific chart?"
      ],
      "metadata": {
        "id": "fge-S5ZAYoAp"
      }
    },
    {
      "cell_type": "markdown",
      "source": [
        "Countplots are effective in visualizing the distribution of categorical variables and showing the frequency or count of each category. By examining the height of each bar, you can quickly identify the most common and least common categories within the variable.Countplots allow for easy comparison of different categories within a variable. By visualizing the counts side by side, you can identify any imbalances or disparities between categories, which can be useful for identifying trends or patterns.If you have a large number of categories or a long-tailed distribution, countplots can help identify categories with very low frequencies or outliers. These rare occurrences can be valuable insights or may require further investigation."
      ],
      "metadata": {
        "id": "5dBItgRVYoAp"
      }
    },
    {
      "cell_type": "markdown",
      "source": [
        "##### 2. What is/are the insight(s) found from the chart?"
      ],
      "metadata": {
        "id": "85gYPyotYoAp"
      }
    },
    {
      "cell_type": "markdown",
      "source": [
        "The countplot shows the frequency count of different levels of installations. You can observe the distribution of installations across various categories or levels, such as 'low', 'medium', or 'high' installs. This can help identify the most common level of installations and any disparities or patterns within the data."
      ],
      "metadata": {
        "id": "4jstXR6OYoAp"
      }
    },
    {
      "cell_type": "markdown",
      "source": [
        "##### 3. Will the gained insights help creating a positive business impact?\n",
        "Are there any insights that lead to negative growth? Justify with specific reason."
      ],
      "metadata": {
        "id": "RoGjAbkUYoAp"
      }
    },
    {
      "cell_type": "markdown",
      "source": [
        "Understanding customer preferences: By analyzing the distribution of installation levels, businesses can gain insights into customer preferences regarding the extent of installations. This understanding can inform product development, marketing strategies, and resource allocation to align with customer demands.\n",
        "\n",
        "Identifying popular installation levels: The countplot allows businesses to identify the most common level of installations. This information can guide decision-making related to pricing, feature prioritization, or resource allocation. Focusing on popular installation levels can help optimize business strategies and improve customer satisfaction.\n",
        "\n",
        "Market segmentation and targeting: If there are distinct patterns or clusters within the countplot, businesses can identify different customer segments based on installation levels. This segmentation can inform targeted marketing campaigns, tailored product offerings, and personalized experiences to enhance customer engagement and drive positive business outcomes.\n",
        "\n",
        "Regarding negative growth, the countplot itself doesn't provide direct insights into negative growth. However, if there are categories with very low frequencies or outliers, it might indicate areas of potential concern. Extremely low installation levels may suggest a lack of interest or demand for certain products or services, which could impact business growth. It would require further analysis, market research, or understanding of the specific business context to evaluate the potential negative impacts on growth."
      ],
      "metadata": {
        "id": "zfJ8IqMcYoAp"
      }
    },
    {
      "cell_type": "markdown",
      "source": [
        "#### Chart - 4"
      ],
      "metadata": {
        "id": "4Of9eVA-YrdM"
      }
    },
    {
      "cell_type": "code",
      "source": [
        "# Chart - 4 visualization code\n",
        "## TOTAL MARKET SIZE\n",
        "\n",
        "total_installs = data[\"Installs\"].sum()\n",
        "print('Total number of apps\\' downloads: +', total_installs)\n",
        "\n",
        "data['total_profit'] = data['Installs'] * data['Price']\n",
        "print('Total amount of money spent on paid apps: $', round(data['total_profit'].sum(),2), end='\\n')\n",
        "\n",
        "## TOTAL MARKET SIZE BY INSTALLS && TOTAL_PROFIT\n",
        "\n",
        "total_cat = data.groupby('Category').sum().sort_values(by='Installs', ascending=False)\n",
        "\n",
        "fig, axes = plt.subplots(nrows=2, ncols=1, figsize=(12,16))\n",
        "_ = sns.barplot(x = total_cat.index, y = 'Installs', data = total_cat, palette=\"Greens_d\", ax=axes[0])\n",
        "_ = sns.barplot(x = total_cat.index, y = 'total_profit', data = total_cat, palette=\"Blues_d\", ax=axes[1])\n",
        "plt.xticks(rotation=90)\n",
        "plt.tight_layout()"
      ],
      "metadata": {
        "id": "irlUoxc8YrdO"
      },
      "execution_count": null,
      "outputs": []
    },
    {
      "cell_type": "markdown",
      "source": [
        "##### 1. Why did you pick the specific chart?"
      ],
      "metadata": {
        "id": "iky9q4vBYrdO"
      }
    },
    {
      "cell_type": "markdown",
      "source": [
        " Bar charts are effective for comparing values across different categories. In this case, you can easily compare the number of installs and total profit for each category by comparing the heights of the bars.\n",
        " The resulting visualization consists of two bar charts displayed in separate subplots. The first chart shows the total number of app installs by category, while the second chart shows the total profit by category. Each bar represents a category, and the height of the bar corresponds to the total installs or total profit for that category."
      ],
      "metadata": {
        "id": "aJRCwT6DYrdO"
      }
    },
    {
      "cell_type": "markdown",
      "source": [
        "##### 2. What is/are the insight(s) found from the chart?"
      ],
      "metadata": {
        "id": "F6T5p64dYrdO"
      }
    },
    {
      "cell_type": "markdown",
      "source": [
        "From the chart generated by the provided code, the following insights can be inferred:\n",
        "\n",
        "1. Total Market Size by Installs: The first bar chart represents the total market size by the number of app installs for each category. By comparing the heights of the bars, you can identify the categories with the highest number of app installs. This provides insights into the popularity and demand for apps in different categories.\n",
        "\n",
        "2. Total Market Size by Total Profit: The second bar chart represents the total market size by the total profit generated for each category. By comparing the heights of the bars, you can identify the categories that generate the highest profits. This provides insights into the revenue potential and profitability of different app categories.\n",
        "\n",
        "3. Category Rankings: By observing the order of the bars in both charts, you can identify the categories that rank highest and lowest in terms of both app installs and total profit. This can help identify the categories that dominate the market and those that may require further attention or strategies for improvement.\n",
        "\n",
        "4. Disparities between Installs and Profit: Comparing the heights of the bars in both charts can reveal any disparities between the number of app installs and the resulting total profit. Categories with a high number of installs but relatively low total profit may indicate potential opportunities for monetization or optimization.\n",
        "\n",
        "5. Category Performance: By analyzing the bar chart, you can gain insights into the performance of different app categories. Categories with tall bars in both charts indicate high popularity and profitability, while categories with shorter bars may require further analysis or strategic considerations.\n",
        "\n",
        "These insights can assist in understanding the market dynamics, identifying successful categories, and making informed decisions related to app development, marketing, and monetization strategies."
      ],
      "metadata": {
        "id": "Xx8WAJvtYrdO"
      }
    },
    {
      "cell_type": "markdown",
      "source": [
        "##### 3. Will the gained insights help creating a positive business impact?\n",
        "Are there any insights that lead to negative growth? Justify with specific reason."
      ],
      "metadata": {
        "id": "y-Ehk30pYrdP"
      }
    },
    {
      "cell_type": "markdown",
      "source": [
        "The gained insights from the chart can potentially help create a positive business impact. Here's why:\n",
        "\n",
        "1. Identifying Profitable Categories: By analyzing the total market size by total profit, the insights can help businesses identify the categories that generate higher profits. This information can guide resource allocation, investment decisions, and business strategies. Focusing on profitable categories can lead to increased revenue and positive business impact.\n",
        "\n",
        "2. Monetization Opportunities: If there are categories with a high number of app installs but relatively low total profit, it presents an opportunity for businesses to optimize their monetization strategies. By analyzing these categories further, businesses can explore ways to increase revenue from their apps, such as through in-app purchases, subscription models, or targeted advertising. Optimizing monetization can lead to a positive impact on the bottom line.\n",
        "\n",
        "3. Market Positioning: Understanding the popularity and demand for different app categories can guide businesses in their market positioning. By identifying the categories that dominate the market in terms of installs, businesses can align their product development and marketing efforts to cater to those categories. This can enhance market penetration, brand recognition, and customer engagement, resulting in positive business impact.\n",
        "\n",
        "Regarding insights that may lead to negative growth, it depends on the specific analysis of the chart and the context of the business. Here's a possible scenario:\n",
        "\n",
        "If the chart reveals categories with low app installs and low total profit, it indicates lower demand and profitability in those categories. For businesses heavily invested in such categories, this insight might suggest a negative growth potential. In such cases, businesses may need to reassess their product offerings, marketing strategies, or consider pivoting towards more profitable categories. Failure to adapt and address the low-growth categories may result in negative business impact.\n",
        "\n",
        "It's important to note that the impact of these insights will vary based on the specific business context, market conditions, and other factors. Therefore, it is crucial for businesses to carefully analyze and interpret the insights gained from the chart within their unique circumstances to make informed decisions and drive positive business impact."
      ],
      "metadata": {
        "id": "jLNxxz7MYrdP"
      }
    },
    {
      "cell_type": "markdown",
      "source": [
        "#### Chart - 5"
      ],
      "metadata": {
        "id": "bamQiAODYuh1"
      }
    },
    {
      "cell_type": "code",
      "source": [
        "# Chart - 5 visualization code\n",
        "## Average price of applications in each category\n",
        "\n",
        "fig = plt.figure(figsize=(16, 8))\n",
        "g = data.groupby('Category').mean().sort_values(by='Price', ascending=False)['Price'].plot(kind='barh', title='Price in USD', fontsize=10)\n",
        "plt.ylabel('App category')\n",
        "plt.xlabel('Average price - USD')"
      ],
      "metadata": {
        "id": "TIJwrbroYuh3"
      },
      "execution_count": null,
      "outputs": []
    },
    {
      "cell_type": "markdown",
      "source": [
        "##### 1. Why did you pick the specific chart?"
      ],
      "metadata": {
        "id": "QHF8YVU7Yuh3"
      }
    },
    {
      "cell_type": "markdown",
      "source": [
        "Bar charts provide a clear and straightforward representation of values. The length of the bars corresponds to the average prices, making it easy to understand the comparison between different categories."
      ],
      "metadata": {
        "id": "dcxuIMRPYuh3"
      }
    },
    {
      "cell_type": "markdown",
      "source": [
        "##### 2. What is/are the insight(s) found from the chart?"
      ],
      "metadata": {
        "id": "GwzvFGzlYuh3"
      }
    },
    {
      "cell_type": "markdown",
      "source": [
        "\n",
        "1. Price Variations across Categories: The chart allows for a comparison of the average prices of applications across different categories. By examining the lengths of the horizontal bars, you can identify categories with higher or lower average prices. This provides insights into the pricing patterns and variations across app categories.\n",
        "\n",
        "2. Categories with Higher Average Prices: Categories with longer bars indicate higher average prices for applications. These categories may include specialized or premium apps that offer advanced features or cater to specific niches. Identifying these categories can provide insights into potential higher revenue streams and profitability for developers targeting those markets.\n",
        "\n",
        "3. Categories with Lower Average Prices: Conversely, categories with shorter bars represent lower average prices for applications. These categories may include more generic or free apps, or those with a high level of competition and price sensitivity. Understanding these categories can be valuable for developers looking to optimize their pricing strategies or explore alternative monetization models.\n",
        "\n",
        "4. Potential Market Segmentation: The variations in average prices across categories suggest potential market segmentation opportunities. Developers can consider targeting specific categories with higher average prices to cater to users willing to pay more for premium or specialized apps. Conversely, they can focus on categories with lower average prices to tap into larger user bases and employ different monetization strategies.\n",
        "\n",
        "5. Pricing Strategy Insights: By analyzing the chart, businesses can gain insights into their own pricing strategies and positioning within the market. They can compare their own app pricing within specific categories to the average prices, helping them determine if their pricing aligns with market trends or if adjustments may be necessary to remain competitive.\n",
        "\n",
        "These insights can assist app developers and businesses in making informed decisions related to pricing, market positioning, and monetization strategies. By understanding the pricing landscape within different app categories, businesses can adapt and tailor their approach to maximize profitability and meet user expectations."
      ],
      "metadata": {
        "id": "uyqkiB8YYuh3"
      }
    },
    {
      "cell_type": "markdown",
      "source": [
        "##### 3. Will the gained insights help creating a positive business impact?\n",
        "Are there any insights that lead to negative growth? Justify with specific reason."
      ],
      "metadata": {
        "id": "qYpmQ266Yuh3"
      }
    },
    {
      "cell_type": "markdown",
      "source": [
        "The insights gained from the specific chart can potentially help create a positive business impact. Here's why:\n",
        "\n",
        "1. Pricing Optimization: The chart provides insights into the average prices of applications in different categories. By analyzing this information, businesses can identify categories with higher average prices and potentially adjust their pricing strategies accordingly. This can lead to increased revenue and profitability if the pricing aligns with market expectations and customer preferences.\n",
        "\n",
        "2. Market Positioning: Understanding the variations in average prices across categories can guide businesses in their market positioning. By identifying categories with higher average prices, businesses can position themselves as providers of premium or specialized apps. This positioning can help attract customers who are willing to pay higher prices for enhanced features or specific functionalities.\n",
        "\n",
        "3. Revenue Diversification: The chart highlights categories with lower average prices, which may indicate higher competition or price sensitivity. This insight can encourage businesses to explore alternative monetization models, such as in-app purchases, subscriptions, or advertising, to diversify their revenue streams and mitigate the potential negative impact of low-priced apps.\n",
        "\n",
        "However, there is a possibility that certain insights from the chart could lead to negative growth. Here's a specific scenario:\n",
        "\n",
        "If the chart reveals that a category with traditionally high average prices has experienced a significant decline in average prices, it could indicate intense competition or a shift in market dynamics. In such cases, businesses operating within that category may face challenges in maintaining profitability. They might need to adapt their strategies, differentiate their offerings, or explore alternative revenue sources to avoid negative growth.\n",
        "\n",
        "It's important to note that the impact of the gained insights and their potential positive or negative outcomes will depend on various factors such as market conditions, competition, customer preferences, and the specific context of the business. Therefore, careful analysis and strategic decision-making are crucial to harnessing the insights effectively and maximizing positive business impact while mitigating any potential negative consequences."
      ],
      "metadata": {
        "id": "_WtzZ_hCYuh4"
      }
    },
    {
      "cell_type": "markdown",
      "source": [
        "#### Chart - 6"
      ],
      "metadata": {
        "id": "OH-pJp9IphqM"
      }
    },
    {
      "cell_type": "code",
      "source": [
        "# Chart - 6 visualization code\n",
        "## Countplot of each Category\n",
        "\n",
        "plt.figure(figsize=(20,5))\n",
        "fig = sns.countplot(x=data['Category'], palette=\"hls\")\n",
        "fig.set_xticklabels(fig.get_xticklabels(),rotation=90)\n",
        "plt.show(fig)"
      ],
      "metadata": {
        "id": "kuRf4wtuphqN"
      },
      "execution_count": null,
      "outputs": []
    },
    {
      "cell_type": "markdown",
      "source": [
        "##### 1. Why did you pick the specific chart?"
      ],
      "metadata": {
        "id": "bbFf2-_FphqN"
      }
    },
    {
      "cell_type": "markdown",
      "source": [
        "The specific chart chosen in the provided code, which is a countplot, can be a suitable choice for visualizing the count of each category in the dataset. Here are some reasons why a countplot can be a good option:\n",
        "\n",
        "1. Categorical Data: Countplots are specifically designed to handle categorical data. They provide a clear representation of the count or frequency of each category in the dataset. In this scenario, the countplot effectively displays the occurrence of each category as individual bars.\n",
        "\n",
        "2. Frequency Comparison: Countplots allow for a straightforward comparison of the frequencies or counts of different categories. By examining the heights of the bars, you can easily identify categories that have a higher or lower occurrence in the dataset. This provides insights into the distribution of categories and allows for visual comparison.\n",
        "\n",
        "3. Readability: Countplots are generally simple and visually appealing, making them easy to understand and interpret. The vertical bars provide a clear representation of the count, and the x-axis labels can be rotated, as done in the code, to enhance readability when dealing with potentially long category names.\n",
        "\n",
        "4. Quick Overview: Countplots provide a quick overview of the category distribution in the dataset. They offer a visual summary of the frequency of each category, allowing you to identify popular categories or categories that are less represented. This can be useful for gaining an initial understanding of the dataset composition.\n",
        "\n",
        "5. Identifying Imbalances: Countplots can reveal any imbalances or discrepancies in the distribution of categories. Significant variations in the heights of the bars indicate disparities in the occurrence of categories. This insight can be valuable for identifying underrepresented or overrepresented categories and exploring potential reasons behind the imbalances.\n",
        "\n",
        "Overall, countplots are well-suited for categorical data and provide a clear representation of category counts. They are useful for identifying patterns, imbalances, and prevalence within a dataset. By selecting this specific chart, you can effectively visualize the count of each category, which can assist in understanding the dataset composition and making informed decisions based on the frequency distribution of categories."
      ],
      "metadata": {
        "id": "loh7H2nzphqN"
      }
    },
    {
      "cell_type": "markdown",
      "source": [
        "##### 2. What is/are the insight(s) found from the chart?"
      ],
      "metadata": {
        "id": "_ouA3fa0phqN"
      }
    },
    {
      "cell_type": "markdown",
      "source": [
        "From the countplot generated by the provided code, the following insights can be inferred:\n",
        "\n",
        "1. Category Frequency: The countplot provides a visual representation of the frequency or count of each category in the dataset. By examining the heights of the bars, you can identify the categories that have a higher or lower occurrence in the dataset. This gives insights into the distribution of categories and their prevalence within the dataset.\n",
        "\n",
        "2. Category Imbalances: The countplot can reveal any imbalances or discrepancies in the distribution of categories. If there are significant variations in the heights of the bars, it indicates a disparity in the occurrence of categories. Identifying such imbalances can be valuable in understanding the representation of different categories within the dataset.\n",
        "\n",
        "3. Popular Categories: The countplot highlights categories with taller bars, indicating a higher count or occurrence in the dataset. These categories can be considered popular or more commonly represented within the dataset. Identifying popular categories can help businesses understand market trends, user preferences, and potential areas for product development or marketing focus.\n",
        "\n",
        "4. Niche Categories: Conversely, categories with shorter bars represent a lower count or occurrence in the dataset. These categories may represent niche or less-represented segments. Identifying these niche categories can be valuable for businesses seeking opportunities for targeted marketing, specialized product offerings, or exploring untapped market segments.\n",
        "\n",
        "5. Category Variability: By comparing the heights of the bars, you can observe any significant differences in the frequency of categories. Categories with notable differences in occurrence may suggest variability or heterogeneity in the dataset. Understanding such variability can help identify patterns, outliers, or potential subgroups within the data.\n",
        "\n",
        "These insights can assist businesses in understanding the distribution and prevalence of different categories within their dataset. It can inform decision-making related to product development, marketing strategies, resource allocation, and identifying potential areas of growth or market opportunities."
      ],
      "metadata": {
        "id": "VECbqPI7phqN"
      }
    },
    {
      "cell_type": "markdown",
      "source": [
        "##### 3. Will the gained insights help creating a positive business impact?\n",
        "Are there any insights that lead to negative growth? Justify with specific reason."
      ],
      "metadata": {
        "id": "Seke61FWphqN"
      }
    },
    {
      "cell_type": "markdown",
      "source": [
        "The insights gained from the countplot visualization can potentially help create a positive business impact. Here's why:\n",
        "\n",
        "1. Market Understanding: The countplot provides insights into the frequency or count of each category in the dataset. This information helps businesses understand the market landscape and the prevalence of different categories. By identifying popular categories with higher counts, businesses can focus their resources and efforts on areas with higher demand, potentially leading to positive business impact.\n",
        "\n",
        "2. Product Development: Understanding the count of each category can guide businesses in making informed decisions about product development. By analyzing the representation of different categories, businesses can identify underserved or niche categories that have lower counts. This insight can inspire the development of new products or features to cater to these categories, opening up opportunities for growth and positive business impact.\n",
        "\n",
        "3. Market Segmentation: The countplot can reveal the variability in category counts, indicating potential market segments within the dataset. Identifying categories with different counts can assist businesses in targeting specific segments with tailored marketing strategies or specialized offerings. This segmentation approach can lead to improved customer engagement, satisfaction, and positive business impact.\n",
        "\n",
        "However, there is a possibility that certain insights from the countplot could lead to negative growth. Here's a specific scenario:\n",
        "\n",
        "If the countplot reveals that a specific category has a significantly lower count compared to other categories, it may suggest limited market demand or lower interest in that category. Businesses heavily invested in such categories may experience challenges in achieving growth or profitability. In such cases, businesses may need to reassess their strategies, evaluate potential reasons for the low count, and consider diversifying their offerings or targeting alternative market segments to avoid negative growth.\n",
        "\n",
        "It's important to note that the impact of the gained insights and their potential positive or negative outcomes will depend on various factors, including market conditions, competition, customer preferences, and the specific context of the business. Careful analysis, market research, and strategic decision-making are essential to leverage the insights effectively and create a positive business impact while mitigating any potential negative consequences."
      ],
      "metadata": {
        "id": "DW4_bGpfphqN"
      }
    },
    {
      "cell_type": "markdown",
      "source": [
        "#### Chart - 7"
      ],
      "metadata": {
        "id": "PIIx-8_IphqN"
      }
    },
    {
      "cell_type": "code",
      "source": [
        "# Chart - 7 visualization code\n",
        "\n",
        "plt.figure(figsize=(13,10), dpi= 80)\n",
        "_ = sns.set_context(\"notebook\")\n",
        "ax = sns.boxplot(x='Rating', y='Category', data=data , notch=False)\n",
        "\n",
        "ax.set_title('Distribution of App Ratings' , size = 20)"
      ],
      "metadata": {
        "id": "lqAIGUfyphqO"
      },
      "execution_count": null,
      "outputs": []
    },
    {
      "cell_type": "markdown",
      "source": [
        "##### 1. Why did you pick the specific chart?"
      ],
      "metadata": {
        "id": "t27r6nlMphqO"
      }
    },
    {
      "cell_type": "markdown",
      "source": [
        "\n",
        "1. Distribution Visualization: Boxplots are specifically designed to visualize the distribution of numerical data. They provide a clear representation of the spread, central tendency, and outliers within each category. In this scenario, the boxplot effectively displays the distribution of app ratings within different categories.\n",
        "\n",
        "2. Comparison of Categories: Boxplots allow for a straightforward comparison of the rating distributions between different categories. By examining the positions of the medians, the lengths of the boxes, and the presence of outliers, you can easily compare the rating characteristics of each category. This facilitates understanding of the relative performance or user experiences across categories.\n",
        "\n",
        "3. Identification of Outliers: Boxplots provide a visual means to identify potential outliers in the rating distributions. Outliers can indicate exceptional ratings or potential issues affecting user experiences within specific categories. Identifying outliers can help businesses pinpoint areas that require attention or further investigation.\n",
        "\n",
        "4. Measurement of Variability: Boxplots provide insights into the spread or variability of ratings within each category. The lengths of the boxes indicate the range between the first and third quartiles, offering an understanding of the dispersion of ratings. This helps assess the consistency or volatility of user experiences within different categories.\n",
        "\n",
        "5. Readability and Clarity: Boxplots are generally easy to read and understand, even when comparing multiple categories simultaneously. They provide a concise summary of the distribution while conveying important statistical measures such as medians, quartiles, and outliers. This makes them suitable for presenting complex rating data in a clear and accessible manner.\n",
        "\n",
        "By selecting this specific chart, effectively visualize and compare the distribution of app ratings across different categories. It enables you to identify patterns, outliers, and variations in ratings, helping in decision-making related to product improvements, user experience enhancements, and category positioning strategies."
      ],
      "metadata": {
        "id": "iv6ro40sphqO"
      }
    },
    {
      "cell_type": "markdown",
      "source": [
        "##### 2. What is/are the insight(s) found from the chart?"
      ],
      "metadata": {
        "id": "r2jJGEOYphqO"
      }
    },
    {
      "cell_type": "markdown",
      "source": [
        "\n",
        "1. Median Ratings: The boxplot allows for a comparison of the median ratings across different app categories. The position of the median line within each box represents the central tendency of the ratings for that category. Comparing the positions of the medians can provide insights into categories with higher or lower median ratings.\n",
        "\n",
        "2. Rating Distribution: The boxplot visualizes the distribution of ratings within each category. The boxes represent the interquartile range (IQR), which spans from the first quartile (25th percentile) to the third quartile (75th percentile) of the ratings. The length of the box indicates the spread of ratings within each category.\n",
        "\n",
        "3. Outliers: Any individual points that fall outside the whiskers of the boxplot represent potential outliers in the rating distribution. These outliers can indicate exceptional or extreme ratings that deviate significantly from the majority. Identifying outliers can provide insights into categories with exceptional ratings or potential issues affecting ratings.\n",
        "\n",
        "4. Rating Variability: Comparing the lengths of the boxes across different categories can reveal variations in the variability of ratings. Categories with longer boxes indicate higher variability or spread of ratings, while shorter boxes suggest lower variability. Understanding the variability of ratings can provide insights into the consistency or volatility of user experiences within different categories.\n",
        "\n",
        "5. Category Comparison: By examining the boxplots side by side, you can compare the rating distributions between different categories. This can help identify categories that consistently have higher or lower ratings compared to others. It allows for insights into the relative performance of categories and potential areas for improvement or differentiation.\n",
        "\n",
        "These insights can assist businesses in understanding the distribution, central tendency, and spread of ratings within different app categories. It can guide decision-making related to product quality, user experience enhancements, marketing strategies, and category positioning.\n",
        "\n"
      ],
      "metadata": {
        "id": "Po6ZPi4hphqO"
      }
    },
    {
      "cell_type": "markdown",
      "source": [
        "##### 3. Will the gained insights help creating a positive business impact?\n",
        "Are there any insights that lead to negative growth? Justify with specific reason."
      ],
      "metadata": {
        "id": "b0JNsNcRphqO"
      }
    },
    {
      "cell_type": "markdown",
      "source": [
        "The gained insights from the boxplot visualization can potentially help create a positive business impact. Here's why:\n",
        "\n",
        "1. Understanding User Satisfaction: The boxplot provides insights into the distribution of app ratings, allowing businesses to understand user satisfaction levels within different categories. By identifying categories with higher median ratings, businesses can gain insights into areas where users are generally satisfied. This understanding can guide decision-making related to product improvements, marketing strategies, and customer retention efforts.\n",
        "\n",
        "2. Identifying Areas for Improvement: The boxplot highlights categories with lower median ratings or a higher presence of outliers. These insights can help businesses identify areas for improvement and prioritize efforts to enhance the user experience within those categories. Taking targeted actions to address issues identified through the boxplot analysis can lead to positive business impact through improved customer satisfaction and loyalty.\n",
        "\n",
        "3. Competitor Analysis: By comparing the rating distributions between different categories, businesses can gain insights into the relative performance of their own apps and those of competitors. This analysis can provide a competitive advantage by identifying areas where competitors excel or struggle. Understanding these dynamics can inform business strategies, positioning, and differentiation efforts to gain a competitive edge and drive positive growth.\n",
        "\n",
        "4. Strategic Decision-Making: The boxplot insights can guide strategic decision-making related to product development, feature enhancements, resource allocation, and marketing efforts. Understanding the distribution of app ratings within different categories allows businesses to prioritize investments, allocate resources effectively, and tailor marketing strategies based on the unique characteristics of each category. This strategic approach can result in positive business impact through optimized resource utilization and targeted marketing efforts.\n",
        "\n",
        "However, it's important to note that negative insights can also arise from the boxplot analysis. Here's a specific scenario:\n",
        "\n",
        "If the boxplot reveals consistent low ratings or a high presence of outliers in a particular category, it may indicate fundamental issues or challenges affecting user satisfaction within that category. Businesses heavily invested in such categories may experience negative growth if the issues are not addressed effectively. In such cases, businesses need to carefully analyze the underlying reasons for the low ratings, take appropriate actions to address the issues, and potentially consider pivoting their strategies or reallocating resources to more promising categories.\n",
        "\n",
        "Ultimately, the impact of the gained insights and their potential positive or negative outcomes will depend on various factors, including the specific context of the business, market conditions, competition, and customer preferences. Diligent analysis, strategic decision-making, and proactive actions based on the insights are crucial to leveraging the potential positive business impact and mitigating any potential negative consequences."
      ],
      "metadata": {
        "id": "xvSq8iUTphqO"
      }
    },
    {
      "cell_type": "markdown",
      "source": [
        "#### Chart - 8"
      ],
      "metadata": {
        "id": "BZR9WyysphqO"
      }
    },
    {
      "cell_type": "code",
      "source": [
        "# Chart - 8 visualization code\n",
        "\n",
        "\n",
        "plt.figure(figsize=(10,10))\n",
        "_ = sns.jointplot(x='Reviews',y='Rating',data=data,color='green',size=9)\n",
        "plt.title('Rating and Reviews of Jointplot')\n",
        "plt.show()"
      ],
      "metadata": {
        "id": "TdPTWpAVphqO"
      },
      "execution_count": null,
      "outputs": []
    },
    {
      "cell_type": "markdown",
      "source": [
        "##### 1. Why did you pick the specific chart?"
      ],
      "metadata": {
        "id": "jj7wYXLtphqO"
      }
    },
    {
      "cell_type": "markdown",
      "source": [
        "\n",
        "\n",
        "1. Relationship Visualization: Jointplots are specifically designed to visualize the relationship between two numerical variables. In this scenario, the jointplot effectively displays the relationship between app reviews and ratings through a scatter plot. The scatter plot allows for a visual examination of any patterns, trends, or correlations between these two variables.\n",
        "\n",
        "2. Distribution Visualization: In addition to the scatter plot, jointplots typically include marginal histograms for each variable. These histograms provide insights into the distributions of app reviews and ratings individually, allowing for a comprehensive understanding of the frequency or count of different levels within each variable.\n",
        "\n",
        "3. Correlation Analysis: Jointplots facilitate the analysis of the correlation between two variables. By observing the scatter plot, you can assess the strength and direction of the correlation between app reviews and ratings. This analysis can provide valuable insights into the overall satisfaction levels of users and potential correlations between their reviews and the ratings they assign.\n",
        "\n",
        "4. Clear Presentation: Jointplots are generally easy to read and interpret. They provide a concise and visually appealing representation of the relationship between two variables, combining a scatter plot and marginal histograms in a single visualization. This makes it convenient to grasp multiple aspects of the data in one chart.\n",
        "\n",
        "5. Insights into User Perception: By selecting this specific chart, you can gain insights into the relationship between user reviews and ratings. This understanding is crucial for assessing user satisfaction, identifying potential correlations, and making informed decisions related to product improvements, user experience enhancements, and reputation management.\n",
        "\n",
        "Ultimately, the choice of a specific chart depends on the nature of the data, the specific insights you want to extract, and the story you want to convey with your visualizations. In this case, the jointplot effectively represents the relationship between app reviews and ratings, offers insights into their distributions, and facilitates the analysis of correlation, making it a suitable choice for understanding user perception and its impact on ratings."
      ],
      "metadata": {
        "id": "Ob8u6rCTphqO"
      }
    },
    {
      "cell_type": "markdown",
      "source": [
        "##### 2. What is/are the insight(s) found from the chart?"
      ],
      "metadata": {
        "id": "eZrbJ2SmphqO"
      }
    },
    {
      "cell_type": "markdown",
      "source": [
        "From the jointplot generated by the provided code, the following insights can be inferred:\n",
        "\n",
        "1. Relationship between Reviews and Ratings: The scatter plot in the jointplot allows for observing the relationship between app reviews and ratings. By examining the distribution of data points, you can identify any patterns or trends that may exist. For example, you can assess if there is a positive correlation, negative correlation, or no significant correlation between reviews and ratings.\n",
        "\n",
        "2. Concentration of Data Points: The scatter plot provides insights into the concentration or density of data points. If the points cluster tightly around a specific region, it suggests a higher occurrence of apps with similar ratings and reviews in that area. Conversely, if the points are more scattered, it indicates a wider range of ratings and reviews among the apps.\n",
        "\n",
        "3. Rating Distribution: The marginal histogram for ratings provides insights into the distribution of app ratings. It helps identify the frequency or count of different rating levels, such as the number of apps with high ratings (e.g., 4 or 5 stars) versus lower ratings (e.g., 1 or 2 stars). This distribution can shed light on the overall satisfaction levels of users with the apps.\n",
        "\n",
        "4. Review Distribution: The marginal histogram for reviews offers insights into the distribution of app reviews. It helps understand the frequency or count of different review counts, such as the number of apps with a large number of reviews versus those with fewer reviews. This distribution can provide insights into the popularity and user engagement of the apps.\n",
        "\n",
        "5. Correlation Analysis: By examining the scatter plot, it is possible to analyze the correlation between reviews and ratings. A positive correlation suggests that higher reviews tend to be associated with higher ratings, indicating a stronger user satisfaction. A negative correlation indicates that higher reviews are associated with lower ratings, suggesting potential discrepancies or issues in user perception.\n",
        "\n",
        "These insights can assist businesses in understanding the relationship between reviews and ratings, gauging user satisfaction levels, identifying potential trends or correlations, and informing decision-making related to product improvements, user experience enhancements, and reputation management."
      ],
      "metadata": {
        "id": "mZtgC_hjphqO"
      }
    },
    {
      "cell_type": "markdown",
      "source": [
        "##### 3. Will the gained insights help creating a positive business impact?\n",
        "Are there any insights that lead to negative growth? Justify with specific reason."
      ],
      "metadata": {
        "id": "rFu4xreNphqO"
      }
    },
    {
      "cell_type": "markdown",
      "source": [
        "The gained insights from the jointplot visualization can potentially help create a positive business impact. Here's why:\n",
        "\n",
        "1. User Satisfaction: Understanding the relationship between app reviews and ratings is essential for assessing user satisfaction. Positive correlations between reviews and ratings suggest that higher-rated apps tend to receive more positive reviews, indicating a higher level of user satisfaction. This insight can guide businesses in prioritizing efforts to maintain or improve user satisfaction, leading to positive business impact through increased customer loyalty, positive word-of-mouth, and higher app adoption rates.\n",
        "\n",
        "2. Quality Assessment: The jointplot allows for an examination of the concentration of data points and the spread of reviews and ratings. By identifying clusters of data points with high ratings and positive reviews, businesses can gain insights into the areas where their apps excel and leverage those strengths for positive business impact. Conversely, if the jointplot reveals a scattered distribution of reviews and ratings with no clear patterns or positive correlations, it may indicate potential areas for improvement or quality issues that need attention to avoid negative business impact.\n",
        "\n",
        "3. Reputation Management: The jointplot helps businesses understand the relationship between reviews and ratings, which is crucial for reputation management. By analyzing the scatter plot, businesses can identify any discrepancies between positive reviews and lower ratings or vice versa. Addressing these discrepancies, understanding user perceptions, and taking appropriate actions can positively impact a business's reputation, leading to improved customer trust, positive reviews, and long-term business growth.\n",
        "\n",
        "However, it's important to note that negative insights can also arise from the jointplot analysis. Here's a specific scenario:\n",
        "\n",
        "If the jointplot reveals a negative correlation between reviews and ratings, where higher reviews are associated with lower ratings, it may indicate potential issues or discrepancies in user perception. This insight could lead to negative growth if not addressed effectively. In such cases, businesses need to investigate the reasons behind the discrepancy, gather user feedback, and take appropriate actions to improve the alignment between reviews and ratings. By addressing these issues, businesses can mitigate negative growth and improve user satisfaction.\n",
        "\n",
        "Ultimately, the impact of the gained insights and their potential positive or negative outcomes will depend on various factors, including the specific context of the business, the nature of the app, competition, and user preferences. Strategic decision-making, proactive actions based on the insights, and continuous improvement efforts are crucial for leveraging the potential positive business impact while mitigating any potential negative consequences."
      ],
      "metadata": {
        "id": "ey_0qi68phqO"
      }
    },
    {
      "cell_type": "markdown",
      "source": [
        "#### Chart - 9"
      ],
      "metadata": {
        "id": "YJ55k-q6phqO"
      }
    },
    {
      "cell_type": "code",
      "source": [
        "# Chart - 9 visualization code\n",
        "\n",
        "\n",
        "plt.figure(figsize = (10,10))\n",
        "_ = sns.regplot(x=\"Price\", y=\"Rating\", color='teal', data=data[data['Reviews']<1000000]);\n",
        "plt.title('Scatter plot Rating VS Price',size = 15)"
      ],
      "metadata": {
        "id": "B2aS4O1ophqO"
      },
      "execution_count": null,
      "outputs": []
    },
    {
      "cell_type": "markdown",
      "source": [
        "##### 1. Why did you pick the specific chart?"
      ],
      "metadata": {
        "id": "gCFgpxoyphqP"
      }
    },
    {
      "cell_type": "markdown",
      "source": [
        "The specific chart chosen  scatter plot with a regression line, can be a suitable choice for visualizing the relationship between app prices and ratings. Here are some reasons why a scatter plot with a regression line can be a good option:\n",
        "\n",
        "1. Relationship Visualization: Scatter plots are effective in visualizing the relationship between two continuous variables. In this case, the scatter plot allows you to examine the relationship between app prices and ratings. Each data point represents an app, with its price plotted on the x-axis and its rating on the y-axis. The scatter plot provides a clear representation of the data points and how they are distributed in relation to each other.\n",
        "\n",
        "2. Trend Analysis: The inclusion of a regression line in the scatter plot helps in understanding the overall trend or pattern in the relationship between prices and ratings. The regression line provides a visual approximation of the direction and strength of the relationship. It helps in identifying whether there is a positive or negative correlation between prices and ratings, or if there is no significant relationship. This insight is valuable for understanding the general behavior or tendencies in the data.\n",
        "\n",
        "3. Outlier Detection: Scatter plots are useful for identifying outliers, which are data points that deviate significantly from the overall pattern or trend. Outliers in the context of app prices and ratings could represent apps that have unusually high or low ratings given their price. Identifying and understanding these outliers can provide insights into unique market dynamics, exceptional app characteristics, or pricing strategies that differ from the norm.\n",
        "\n",
        "4. Clustering and Density: Scatter plots allow for the observation of the concentration or density of data points. By examining the distribution of points, you can identify areas where data points are clustered or scattered. Clustering suggests a higher occurrence of apps with similar price and rating combinations, while scattering indicates a wider range of ratings and prices among the apps. These observations can provide insights into market segmentation, competition, and potential pricing differentiations.\n",
        "\n",
        "5. Clear Representation: Scatter plots are generally easy to interpret and communicate. They provide a straightforward visual representation of the relationship between two variables and the overall pattern. The inclusion of the regression line aids in understanding the trend and making comparisons between different apps. The axes and labels in the scatter plot allow for clear identification of the variables being visualized.\n",
        "\n",
        "By selecting this specific chart, you can effectively visualize and understand the relationship between app prices and ratings. It allows for the identification of trends, detection of outliers, assessment of market dynamics, and evaluation of pricing strategies. This visualization aids in decision-making related to product pricing, customer satisfaction, and market positioning."
      ],
      "metadata": {
        "id": "TVxDimi2phqP"
      }
    },
    {
      "cell_type": "markdown",
      "source": [
        "##### 2. What is/are the insight(s) found from the chart?"
      ],
      "metadata": {
        "id": "OVtJsKN_phqQ"
      }
    },
    {
      "cell_type": "markdown",
      "source": [
        "\n",
        "1. Price and Rating Relationship: The scatter plot allows for the observation of the relationship between app prices and ratings. By examining the distribution of data points, you can identify any patterns, trends, or correlations between these two variables.\n",
        "\n",
        "2. General Trend: The inclusion of the regression line provides a visual approximation of the overall trend between prices and ratings. If the regression line slopes upward from left to right, it suggests a positive correlation between higher prices and higher ratings. Conversely, if the regression line slopes downward, it indicates a negative correlation between prices and ratings.\n",
        "\n",
        "3. Concentration of Data Points: The scatter plot provides insights into the concentration or density of data points. If the points cluster tightly around the regression line, it suggests a higher occurrence of apps with similar prices and ratings in that area. Conversely, if the points are more scattered, it indicates a wider range of ratings and prices among the apps.\n",
        "\n",
        "4. Outliers: Examining the scatter plot can help identify any outliers, which are data points that deviate significantly from the general trend. Outliers may indicate exceptional apps that have ratings inconsistent with their prices. Identifying and understanding these outliers can provide insights into unique market dynamics or specific app characteristics that may influence the pricing and rating relationship.\n",
        "\n",
        "5. Pricing Strategies: The scatter plot offers insights into the pricing strategies of different apps. By observing the relationship between prices and ratings, businesses can assess whether higher-priced apps tend to receive higher ratings or if there are alternative pricing strategies that result in higher customer satisfaction. This insight can inform pricing decisions and strategies to optimize customer value and profitability.\n",
        "\n",
        "These insights can assist businesses in understanding the relationship between app prices and ratings, evaluating pricing strategies, and informing decision-making related to product pricing, customer satisfaction, and competitive positioning. It can guide businesses in making informed choices that lead to positive business impact, such as optimizing pricing to maximize customer value, identifying opportunities for product differentiation, or adjusting pricing strategies based on the observed relationship between prices and ratings."
      ],
      "metadata": {
        "id": "ngGi97qjphqQ"
      }
    },
    {
      "cell_type": "markdown",
      "source": [
        "##### 3. Will the gained insights help creating a positive business impact?\n",
        "Are there any insights that lead to negative growth? Justify with specific reason."
      ],
      "metadata": {
        "id": "lssrdh5qphqQ"
      }
    },
    {
      "cell_type": "markdown",
      "source": [
        "The gained insights from the scatter plot with a regression line can potentially help create a positive business impact. Here's why:\n",
        "\n",
        "1. Pricing Optimization: Understanding the relationship between app prices and ratings can guide businesses in optimizing their pricing strategies. Positive correlations between prices and ratings suggest that higher-priced apps tend to receive higher ratings, indicating that customers perceive higher value in those apps. This insight can inform pricing decisions to maximize customer value and profitability, potentially leading to positive business impact.\n",
        "\n",
        "2. Competitive Positioning: Analyzing the relationship between prices and ratings can provide insights into how your app compares to competitors. If your app has higher ratings at a similar price point or lower ratings at a higher price point, it can inform your competitive positioning strategy. Adjusting your pricing strategy based on the observed relationship can help differentiate your app from competitors, potentially leading to positive growth.\n",
        "\n",
        "3. Value Perception: The scatter plot helps assess how customers perceive the value of apps at different price points. By understanding the distribution of ratings across various price ranges, businesses can identify the price points where customers expect higher quality or value. This insight can guide product improvements, feature enhancements, and marketing strategies to meet customer expectations and positively impact business growth.\n",
        "\n",
        "However, it's important to note that negative insights can also arise from the analysis. Here's a specific scenario:\n",
        "\n",
        "If the scatter plot and regression line indicate a negative correlation between prices and ratings, where higher prices are associated with lower ratings, it may suggest that customers perceive higher-priced apps as overpriced or of lower value. In such cases, continuing with high prices may lead to negative growth as customers may choose lower-priced alternatives with better ratings. Businesses need to carefully analyze the reasons behind the negative correlation, consider adjusting pricing strategies, and focus on improving the perceived value of their apps to avoid negative consequences.\n",
        "\n",
        "Overall, the impact of the gained insights and their potential positive or negative outcomes will depend on various factors, including the specific context of the business, market conditions, competition, and customer preferences. Leveraging the insights to optimize pricing, differentiate from competitors, and improve value perception can lead to positive business impact. Continuous monitoring, analysis, and adaptation based on customer feedback and market dynamics are crucial to maintaining growth and mitigating any potential negative consequences."
      ],
      "metadata": {
        "id": "tBpY5ekJphqQ"
      }
    },
    {
      "cell_type": "markdown",
      "source": [
        "#### Chart - 10"
      ],
      "metadata": {
        "id": "U2RJ9gkRphqQ"
      }
    },
    {
      "cell_type": "code",
      "source": [
        "# Chart - 10 visualization code\n",
        "## Content Rating for each of Categories\n",
        "\n",
        "fig = plt.figure(figsize=(16,8))\n",
        "labels = data['Content Rating'].value_counts(sort = True).index\n",
        "sizes = data['Content Rating'].value_counts(sort = True)\n",
        "plt.pie(sizes,labels=labels,autopct='%1.1f%%', shadow=True)\n",
        "plt.title('Content Rating',size = 20)\n",
        "plt.show()"
      ],
      "metadata": {
        "id": "GM7a4YP4phqQ"
      },
      "execution_count": null,
      "outputs": []
    },
    {
      "cell_type": "markdown",
      "source": [
        "##### 1. Why did you pick the specific chart?"
      ],
      "metadata": {
        "id": "1M8mcRywphqQ"
      }
    },
    {
      "cell_type": "markdown",
      "source": [
        "\n",
        "\n",
        "1. Composition Visualization: Pie charts are effective in displaying the composition or distribution of different categories as slices of a pie. In this case, the pie chart visually represents the distribution of content ratings across categories, allowing you to easily observe the proportions or percentages of each rating category.\n",
        "\n",
        "2. Clear Proportional Comparison: The pie chart enables a clear comparison of the relative sizes or proportions of content rating categories. The size of each slice corresponds to the proportion of apps in that category, making it easy to assess the differences and relative importance of each category. This visual comparison helps identify dominant categories and understand the distribution pattern at a glance.\n",
        "\n",
        "3. Emphasis on Categories: The pie chart emphasizes the individual content rating categories by representing each one as a separate slice. This makes it easy to identify and focus on the specific categories and their corresponding proportions within the overall distribution. The clear distinction between categories facilitates understanding and interpretation.\n",
        "\n",
        "4. Simplicity and Readability: Pie charts are generally simple and intuitive to read, making them accessible to a wide range of audiences. The circular shape and proportional representation of the slices make it easy to grasp the overall distribution pattern without requiring complex data analysis. The chart's simplicity promotes effective communication of the insights to stakeholders or decision-makers.\n",
        "\n",
        "5. Visual Appeal: Pie charts are visually appealing and can quickly capture attention. Their visual representation allows for immediate understanding of the distribution of content ratings and can engage viewers in exploring the composition of different categories. The visual appeal of the chart can enhance the communication and impact of the insights.\n",
        "\n",
        "By selecting this specific chart, you can effectively visualize and understand the distribution of content ratings across categories. The pie chart's composition visualization, clear proportional comparison, emphasis on categories, simplicity, and visual appeal make it a suitable choice for presenting the distribution pattern of content ratings."
      ],
      "metadata": {
        "id": "8agQvks0phqQ"
      }
    },
    {
      "cell_type": "markdown",
      "source": [
        "##### 2. What is/are the insight(s) found from the chart?"
      ],
      "metadata": {
        "id": "tgIPom80phqQ"
      }
    },
    {
      "cell_type": "markdown",
      "source": [
        "\n",
        "1. Distribution of Content Ratings: The pie chart provides insights into the distribution of content ratings across different categories. Each slice of the pie represents a content rating category, and its size indicates the proportion or percentage of apps in that category. By examining the sizes of the slices, you can identify which content rating categories are more prevalent and which are less common.\n",
        "\n",
        "2. Dominant Content Ratings: The pie chart allows for the identification of dominant content rating categories. The larger slices indicate content rating categories that have a higher proportion of apps. This insight can be useful for understanding the overall composition of content ratings and identifying the most commonly assigned content ratings within the dataset.\n",
        "\n",
        "3. Proportional Comparison: The pie chart enables a visual comparison of the relative proportions of content rating categories. By observing the sizes of the slices, you can assess the differences in distribution between the content rating categories. This comparison can provide insights into whether certain content rating categories are more prevalent than others, and the degree of variation between them.\n",
        "\n",
        "4. Distribution Patterns: The arrangement and sizes of the pie chart slices can reveal certain distribution patterns. For example, if there is a single large slice dominating the chart, it suggests that a particular content rating category is significantly more common than others. On the other hand, if the slices are relatively evenly sized, it indicates a more balanced distribution of content ratings across categories.\n",
        "\n",
        "These insights can assist businesses in understanding the distribution of content ratings within their app categories, identifying the dominant content rating categories, and gaining insights into industry-wide or platform-specific trends. This information can inform decision-making related to content creation, app development, and compliance with content rating guidelines. Additionally, businesses can use these insights to tailor their marketing strategies and target specific user segments based on content ratings."
      ],
      "metadata": {
        "id": "Qp13pnNzphqQ"
      }
    },
    {
      "cell_type": "markdown",
      "source": [
        "##### 3. Will the gained insights help creating a positive business impact?\n",
        "Are there any insights that lead to negative growth? Justify with specific reason."
      ],
      "metadata": {
        "id": "JMzcOPDDphqR"
      }
    },
    {
      "cell_type": "markdown",
      "source": [
        "The gained insights from the pie chart visualization of content ratings can potentially help create a positive business impact. Here's why:\n",
        "\n",
        "1. Understanding Customer Preferences: The pie chart provides insights into the distribution of content ratings across categories. This understanding of customer preferences can help businesses align their content strategies, app development, and marketing efforts to cater to the dominant content rating categories. By delivering content that resonates with customer preferences, businesses can increase user engagement, satisfaction, and positive reviews, ultimately leading to positive business impact.\n",
        "\n",
        "2. Tailoring Marketing Strategies: Knowledge of the distribution of content ratings can inform marketing strategies. Businesses can target specific user segments or platforms based on the prevalent content rating categories. This targeted approach enables customized messaging, promotion, and user acquisition efforts, leading to improved user engagement, higher conversion rates, and positive business growth.\n",
        "\n",
        "3. Compliance with Guidelines: Content ratings are often governed by guidelines or regulations. Understanding the distribution of content ratings allows businesses to ensure compliance with these guidelines, avoiding potential penalties or negative consequences. By adhering to content rating requirements, businesses can maintain a positive reputation, build trust with users and stakeholders, and foster a safe and compliant environment for app usage.\n",
        "\n",
        "4. Identifying Improvement Opportunities: If the pie chart reveals a significant proportion of apps falling into lower content rating categories, it may indicate areas for improvement. For example, if a large percentage of apps receive content ratings indicating they are not suitable for all audiences, it might be beneficial to review and revise the content or implement stronger moderation processes. Taking action to address content rating concerns can result in enhanced user trust, expanded target audience, and positive business growth.\n",
        "\n",
        "However, it's important to note that there could be potential negative growth implications if the insights from the pie chart are not appropriately addressed. Here's a specific scenario:\n",
        "\n",
        "If the dominant content rating categories in the pie chart indicate that a substantial proportion of apps are rated negatively or deemed inappropriate for certain audiences, it may result in negative growth. This could lead to decreased user engagement, reduced app adoption, and potential reputational damage. In such cases, businesses need to reassess their content strategies, implement improvements, and address any concerns to mitigate negative consequences and drive positive growth.\n",
        "\n",
        "Ultimately, the impact of the gained insights and their potential positive or negative outcomes will depend on various factors, including the specific context of the business, target audience, competition, and industry regulations. Leveraging the insights to understand customer preferences, tailor strategies, ensure compliance, and identify improvement opportunities can lead to positive business impact. Continuous monitoring, adaptation, and responsiveness to user feedback and market dynamics are crucial for maintaining positive growth and mitigating any potential negative consequences."
      ],
      "metadata": {
        "id": "R4Ka1PC2phqR"
      }
    },
    {
      "cell_type": "markdown",
      "source": [
        "#### Chart - 11"
      ],
      "metadata": {
        "id": "x-EpHcCOp1ci"
      }
    },
    {
      "cell_type": "code",
      "source": [
        "# Chart - 11 visualization code\n",
        "\n",
        "## Count of Content Rating for each group\n",
        "\n",
        "plt.figure(figsize=(6,3))\n",
        "fig = sns.countplot(x=data['Content Rating'], palette=\"hls\")\n",
        "fig.set_xticklabels(fig.get_xticklabels(),rotation=90)\n",
        "plt.show(fig)"
      ],
      "metadata": {
        "id": "mAQTIvtqp1cj"
      },
      "execution_count": null,
      "outputs": []
    },
    {
      "cell_type": "markdown",
      "source": [
        "##### 1. Why did you pick the specific chart?"
      ],
      "metadata": {
        "id": "X_VqEhTip1ck"
      }
    },
    {
      "cell_type": "markdown",
      "source": [
        "The specific chart can be a suitable choice for visualizing the count of content ratings for each group/category. Here are some reasons why a countplot can be a good option:\n",
        "\n",
        "1. Frequency Comparison: Countplots are effective in comparing the frequencies or counts of different categories. In this case, the countplot allows you to compare the number of apps in each content rating category within each group/category. The height of each bar represents the count, making it easy to observe and compare the frequencies across categories.\n",
        "\n",
        "2. Categorical Distribution: Countplots are particularly useful for displaying the distribution of categorical variables. In this case, the countplot shows the distribution of content ratings within each group/category. It provides a visual representation of the composition and prevalence of different content rating categories, allowing for quick insights into the distribution patterns.\n",
        "\n",
        "3. Clear and Concise Visualization: Countplots are simple and straightforward, making them easily interpretable. The chart uses vertical bars to represent the count of each content rating category, and the height of the bars corresponds to the frequency of apps in each category. This clear visual representation allows for easy understanding and comparison of the counts across categories.\n",
        "\n",
        "4. Compact Presentation: Countplots are space-efficient and suitable for visualizing a large number of categories. They can handle a wide range of category counts without becoming overcrowded or visually cluttered. This makes countplots an effective choice when dealing with datasets that have numerous content rating categories or groups.\n",
        "\n",
        "5. Easy Interpretation: Countplots provide an intuitive visual representation of the count or frequency of content ratings for each group/category. The chart is easily interpretable by a wide range of stakeholders, enabling effective communication and understanding of the insights. This facilitates decision-making processes and promotes collaboration among team members.\n",
        "\n",
        "By selecting this specific chart, you can effectively visualize and compare the counts of content ratings across different groups/categories. The countplot's ability to show the frequency distribution in a clear and concise manner, along with its suitability for categorical data, makes it a suitable choice for presenting the count of content ratings."
      ],
      "metadata": {
        "id": "-vsMzt_np1ck"
      }
    },
    {
      "cell_type": "markdown",
      "source": [
        "##### 2. What is/are the insight(s) found from the chart?"
      ],
      "metadata": {
        "id": "8zGJKyg5p1ck"
      }
    },
    {
      "cell_type": "markdown",
      "source": [
        "From the countplot visualization, the following insights can be inferred:\n",
        "\n",
        "1. Content Rating Distribution: The countplot provides insights into the distribution of content ratings within each group/category. By examining the height of the bars, you can identify which content rating categories are more prevalent within each group. This insight helps understand the composition of content ratings and the distribution pattern across different categories.\n",
        "\n",
        "2. Dominant Content Ratings: The countplot allows for the identification of dominant content rating categories within each group. The taller bars indicate content rating categories that have a higher count or frequency of apps within a specific group. This insight can help businesses identify the most common or frequently assigned content ratings within each category.\n",
        "\n",
        "3. Relative Comparison: The countplot facilitates a visual comparison of the count or frequency of content ratings between different categories within each group. By comparing the heights of the bars, you can assess the differences in prevalence or occurrence of content ratings. This comparison provides insights into which content ratings are more or less common within each category.\n",
        "\n",
        "4. Compliance Assessment: The countplot helps in assessing the level of compliance with content rating guidelines or regulations within each group/category. By observing the distribution of content ratings, businesses can identify whether certain categories have a higher prevalence of appropriate content ratings, indicating compliance with guidelines. This insight is valuable for ensuring adherence to regulations and maintaining a positive reputation.\n",
        "\n",
        "5. Anomalies or Discrepancies: The countplot can reveal any anomalies or discrepancies in the distribution of content ratings within each category or group. For example, if a certain content rating category has an unexpectedly low count within a particular group, it may indicate potential issues or inaccuracies in content rating assignments. Identifying and addressing such anomalies can help ensure consistency and accuracy in content ratings.\n",
        "\n",
        "These insights can assist businesses in understanding the distribution of content ratings within different categories or groups, identifying dominant or less common content rating categories, assessing compliance with guidelines, and uncovering any anomalies or discrepancies. This information can inform decision-making related to content strategies, compliance efforts, user experience, and content moderation."
      ],
      "metadata": {
        "id": "ZYdMsrqVp1ck"
      }
    },
    {
      "cell_type": "markdown",
      "source": [
        "##### 3. Will the gained insights help creating a positive business impact?\n",
        "Are there any insights that lead to negative growth? Justify with specific reason."
      ],
      "metadata": {
        "id": "PVzmfK_Ep1ck"
      }
    },
    {
      "cell_type": "markdown",
      "source": [
        "The gained insights from the countplot visualization of content ratings for each group/category can potentially help create a positive business impact. Here's why:\n",
        "\n",
        "1. Understanding Distribution: The countplot provides insights into the distribution of content ratings within each group/category. This understanding of how content ratings are distributed across different categories allows businesses to tailor their content strategies, product development, and marketing efforts to align with the prevalent ratings. By delivering content that aligns with the majority of ratings, businesses can enhance user engagement, satisfaction, and positive reviews, ultimately leading to positive business impact.\n",
        "\n",
        "2. Compliance and Reputation: The countplot helps in assessing compliance with content rating guidelines or regulations within each group/category. It allows businesses to identify whether certain categories have a higher prevalence of appropriate content ratings, indicating compliance with guidelines. Ensuring compliance with content rating requirements is crucial for maintaining a positive reputation, building trust with users and stakeholders, and avoiding any legal or reputational consequences.\n",
        "\n",
        "3. Identification of Anomalies or Issues: The countplot can reveal any anomalies or issues related to content ratings within each category or group. For instance, if a specific content rating category has an unexpectedly low count within a particular group, it may indicate potential inaccuracies or discrepancies in content rating assignments. Identifying and addressing such anomalies or issues can help maintain the integrity and accuracy of content ratings, which in turn contributes to positive business impact.\n",
        "\n",
        "4. Targeted Strategies: Insights from the countplot can inform targeted strategies. By understanding the distribution of content ratings within each category or group, businesses can develop targeted marketing campaigns, refine their user acquisition strategies, and tailor their product offerings to specific audience segments. This targeted approach can lead to improved user acquisition, engagement, and retention, resulting in positive business growth.\n",
        "\n",
        "While the countplot provides valuable insights, it's important to interpret the results in the context of the business and its specific goals. Negative growth implications can arise if the insights are not appropriately addressed. Here's a specific scenario:\n",
        "\n",
        "If the countplot reveals a substantial proportion of apps with content ratings that are deemed inappropriate or receive lower ratings within certain categories or groups, it may lead to negative growth. This can result in decreased user engagement, lower app adoption rates, and potential reputational damage. To mitigate these negative consequences, businesses need to reassess their content strategies, implement improvements, and address any concerns raised by the content ratings.\n",
        "\n",
        "Overall, the impact of the gained insights and their potential positive or negative outcomes will depend on various factors, including the specific context of the business, target audience, competition, and industry regulations. Leveraging the insights to optimize content strategies, ensure compliance, address anomalies or issues, and develop targeted approaches can lead to positive business impact. Continuous monitoring, adaptation, and responsiveness to user feedback and market dynamics are crucial for maintaining positive growth and mitigating any potential negative consequences."
      ],
      "metadata": {
        "id": "druuKYZpp1ck"
      }
    },
    {
      "cell_type": "markdown",
      "source": [
        "#### Chart - 12"
      ],
      "metadata": {
        "id": "n3dbpmDWp1ck"
      }
    },
    {
      "cell_type": "code",
      "source": [
        "# Chart - 12 visualization code\n",
        "\n",
        "data_cont =  data.groupby('Content Rating')['Installs'].agg('sum').reset_index(name='Number_Installations')\n",
        "plt.figure(figsize=(10,5))\n",
        "sns.barplot(x=data_cont['Content Rating'], y=data_cont['Number_Installations'])\n",
        "plt.show()"
      ],
      "metadata": {
        "id": "bwevp1tKp1ck"
      },
      "execution_count": null,
      "outputs": []
    },
    {
      "cell_type": "markdown",
      "source": [
        "##### 1. Why did you pick the specific chart?"
      ],
      "metadata": {
        "id": "ylSl6qgtp1ck"
      }
    },
    {
      "cell_type": "markdown",
      "source": [
        "\n",
        "1. Comparison of Quantitative Data: Bar plots are effective in comparing quantitative data, such as the total number of installations in this case. The length of each bar represents the magnitude of the installations, allowing for easy visual comparison between content rating categories. This makes it straightforward to identify which categories have higher or lower installation counts.\n",
        "\n",
        "2. Clear Representation: Bar plots provide a clear and concise representation of the data. The use of vertical bars allows for easy interpretation, and the lengths of the bars provide a visual indication of the relative values. This simplicity makes bar plots accessible and understandable for a wide range of stakeholders, facilitating effective communication and decision-making.\n",
        "\n",
        "3. Categorical Data Visualization: Bar plots are particularly suitable for visualizing categorical data. In this case, the content rating categories are represented on the x-axis, allowing for a clear display of each category's installation count. The distinct separation of the bars facilitates the comparison of values across categories.\n",
        "\n",
        "4. Emphasis on Magnitude: The use of vertical bars in a bar plot emphasizes the magnitude of the installations. The height of each bar corresponds to the number of installations, highlighting the differences between categories. This emphasis on magnitude helps identify the content rating categories with higher or lower installation counts and provides insights into the popularity and user adoption of different categories.\n",
        "\n",
        "5. Space-Efficient Representation: Bar plots are space-efficient and suitable for displaying a large number of categories. The vertical orientation of the bars allows for the inclusion of numerous content rating categories without overcrowding the plot. This makes bar plots effective in visualizing comprehensive data sets without sacrificing clarity.\n",
        "\n",
        "By selecting this specific chart, you can effectively visualize and compare the total number of installations for each content rating category. The bar plot's ability to compare quantitative data, provide a clear representation, handle categorical data, emphasize magnitude, and maintain space-efficiency makes it a suitable choice for presenting the installation counts."
      ],
      "metadata": {
        "id": "m2xqNkiQp1ck"
      }
    },
    {
      "cell_type": "markdown",
      "source": [
        "##### 2. What is/are the insight(s) found from the chart?"
      ],
      "metadata": {
        "id": "ZWILFDl5p1ck"
      }
    },
    {
      "cell_type": "markdown",
      "source": [
        "From the bar plot visualization of the total number of installations for each content rating category, the following insights can be inferred:\n",
        "\n",
        "1. Popularity of Content Rating Categories: The bar plot provides insights into the popularity or user adoption of different content rating categories. By examining the heights of the bars, you can identify which content rating categories have a higher number of installations, indicating their popularity among users. This insight helps understand the relative attractiveness or demand for apps with different content ratings.\n",
        "\n",
        "2. User Adoption Patterns: The bar plot allows for the identification of patterns in user adoption based on content rating categories. By comparing the heights of the bars, you can observe if certain content rating categories attract a significantly larger number of installations compared to others. This insight can highlight content rating categories that have higher user acceptance or appeal, potentially indicating specific preferences or trends among users.\n",
        "\n",
        "3. Importance of Content Ratings: The bar plot emphasizes the role of content ratings in influencing user behavior. The higher number of installations for certain content rating categories suggests that users consider content ratings as a factor in their decision-making process. This insight underscores the significance of content ratings in attracting and retaining users.\n",
        "\n",
        "4. Potential Targeting Opportunities: The bar plot helps identify content rating categories that have a substantial number of installations. This information can inform targeting strategies, allowing businesses to focus their efforts on specific content rating categories that have a larger user base. By understanding which content rating categories are more popular, businesses can tailor their marketing campaigns, content strategies, and user acquisition efforts to effectively reach and engage the target audience.\n",
        "\n",
        "5. Comparative Analysis: The bar plot facilitates a comparative analysis of the number of installations across different content rating categories. By comparing the heights of the bars, you can assess the relative popularity and user adoption rates of different content rating categories. This comparison provides insights into the varying degrees of success and potential opportunities for improvement within each category.\n",
        "\n",
        "These insights can assist businesses in understanding the popularity and user adoption of different content rating categories, identifying user preferences, and tailoring their strategies accordingly. The information gained from the bar plot can guide decision-making related to content development, marketing efforts, user acquisition, and app positioning. By focusing on popular content rating categories and aligning strategies with user preferences, businesses can enhance their reach, engagement, and positive business impact."
      ],
      "metadata": {
        "id": "x-lUsV2mp1ck"
      }
    },
    {
      "cell_type": "markdown",
      "source": [
        "##### 3. Will the gained insights help creating a positive business impact?\n",
        "Are there any insights that lead to negative growth? Justify with specific reason."
      ],
      "metadata": {
        "id": "M7G43BXep1ck"
      }
    },
    {
      "cell_type": "markdown",
      "source": [
        "The gained insights from the bar plot visualization of the total number of installations for each content rating category can potentially help create a positive business impact. Here's why:\n",
        "\n",
        "1. Identify Popular Content Rating Categories: The bar plot allows businesses to identify the content rating categories that have a higher number of installations. This insight helps businesses understand which categories are more popular among users, enabling them to focus their efforts and resources on developing and promoting apps that align with those popular categories. By catering to popular content rating categories, businesses can increase their chances of attracting a larger user base and achieving positive business impact.\n",
        "\n",
        "2. Tailor Content Strategies: Understanding the popularity of content rating categories can inform content strategies. Businesses can develop and curate content that aligns with the preferences and demands of users in popular categories. This targeted approach can enhance user satisfaction, engagement, and positive reviews, leading to increased app adoption, user retention, and positive business growth.\n",
        "\n",
        "3. Refine Marketing Efforts: Insights from the bar plot can guide marketing efforts. By identifying popular content rating categories, businesses can tailor their marketing campaigns to target specific user segments that are more likely to engage with apps in those categories. This focused marketing approach can improve user acquisition, increase app visibility, and generate positive business impact through higher conversion rates and user engagement.\n",
        "\n",
        "4. Strategic Partnerships and Investments: The popularity of content rating categories can influence strategic decisions, such as partnerships and investments. Businesses can identify potential collaborations or investment opportunities in popular categories to capitalize on the existing user base and market demand. Strategic partnerships and investments in popular content rating categories can lead to increased brand exposure, user acquisition, and positive business growth.\n",
        "\n",
        "However, it's important to interpret the results in the context of the business and its specific goals. Negative growth implications can arise if the insights are not appropriately addressed. Here's a specific scenario:\n",
        "\n",
        "If the bar plot reveals a significant disparity in the number of installations between content rating categories, where a particular category has a substantially lower number of installations compared to others, it may indicate an issue or a potential area for improvement. This could lead to negative growth if the business does not address the reasons behind the lower adoption of apps in that category. It may require a reassessment of content strategies, user experience, or marketing efforts to enhance the attractiveness and adoption of apps in that specific category.\n",
        "\n",
        "Overall, the impact of the gained insights and their potential positive or negative outcomes will depend on various factors, including the specific context of the business, target audience, competition, and industry dynamics. Leveraging the insights to tailor content strategies, refine marketing efforts, and identify opportunities for growth in popular content rating categories can contribute to positive business impact. Continuous monitoring, adaptation, and responsiveness to user feedback and market trends are essential for maintaining positive growth and mitigating any potential negative consequences."
      ],
      "metadata": {
        "id": "5wwDJXsLp1cl"
      }
    },
    {
      "cell_type": "markdown",
      "source": [
        "#### Chart - 13"
      ],
      "metadata": {
        "id": "Ag9LCva-p1cl"
      }
    },
    {
      "cell_type": "code",
      "source": [
        "# Chart - 13 visualization code\n",
        "\n",
        "#histogram to visualize the distribution of sentiment polarity values.\n",
        "data[\"Sentiment_Polarity\"].plot(kind=\"hist\", bins=10)\n",
        "plt.xlabel(\"Sentiment Polarity\")\n",
        "plt.ylabel(\"Frequency\")\n",
        "plt.title(\"Distribution of Sentiment Polarity\")\n",
        "plt.show()\n"
      ],
      "metadata": {
        "id": "EUfxeq9-p1cl"
      },
      "execution_count": null,
      "outputs": []
    },
    {
      "cell_type": "markdown",
      "source": [
        "##### 1. Why did you pick the specific chart?"
      ],
      "metadata": {
        "id": "E6MkPsBcp1cl"
      }
    },
    {
      "cell_type": "markdown",
      "source": [
        "The specific chart chosen  can be a suitable choice for visualizing the distribution of sentiment polarity values. Here are some reasons why a histogram can be a good option:\n",
        "\n",
        "1. Distribution Visualization: Histograms are effective for visualizing the distribution of numerical data, such as sentiment polarity values. They provide insights into the frequency or count of values falling within different intervals or bins. By representing the sentiment polarity values on the x-axis and the frequency on the y-axis, the histogram displays the distribution pattern and allows for easy interpretation of the data.\n",
        "\n",
        "2. Data Range and Spread: Histograms provide information about the range and spread of sentiment polarity values. The width of the bins and the distribution of values within them indicate the variability and dispersion of sentiments. This helps in understanding whether the sentiment polarity values are concentrated within a narrow range or spread out across a wider range, providing insights into the diversity of sentiments expressed.\n",
        "\n",
        "3. Central Tendency: Histograms allow for the assessment of the central tendency of sentiment polarity values. The highest bar in the histogram represents the most frequent sentiment polarity value or the mode of the data. This provides insights into the average sentiment polarity or the most common sentiment expressed within the dataset.\n",
        "\n",
        "4. Shape and Skewness: The shape of the histogram can indicate the skewness of sentiment polarity values. A symmetric histogram suggests a balanced distribution of sentiments, while an asymmetric histogram indicates skewness towards positive or negative sentiments. Understanding the shape and skewness provides insights into the overall sentiment tendencies within the dataset.\n",
        "\n",
        "5. Identification of Outliers: Histograms can help identify outliers or extreme values in the sentiment polarity distribution. Outliers are represented by bars that are significantly taller or shorter than the surrounding bars. Identifying outliers in sentiment polarity values can highlight exceptional or unusual sentiments that deviate from the general sentiment pattern.\n",
        "\n",
        "By selecting this specific chart, you can effectively visualize and analyze the distribution of sentiment polarity values. The histogram's ability to display the distribution pattern, provide insights into data range and spread, assess central tendency and skewness, and identify outliers makes it a suitable choice for presenting the sentiment polarity distribution. It enables a comprehensive understanding of the sentiment tendencies within the dataset, aiding in sentiment analysis, customer feedback analysis, and decision-making processes related to customer satisfaction and business strategies.Answer Here."
      ],
      "metadata": {
        "id": "V22bRsFWp1cl"
      }
    },
    {
      "cell_type": "markdown",
      "source": [
        "##### 2. What is/are the insight(s) found from the chart?"
      ],
      "metadata": {
        "id": "2cELzS2fp1cl"
      }
    },
    {
      "cell_type": "markdown",
      "source": [
        "From the histogram visualization of the distribution of sentiment polarity values, the following insights can be inferred:\n",
        "\n",
        "1. Sentiment Distribution: The histogram provides insights into the distribution of sentiment polarity values. By examining the shape and spread of the histogram, you can understand the overall distribution pattern of sentiment polarities within the dataset. This insight helps determine whether the sentiment tends to be predominantly positive, negative, or neutral.\n",
        "\n",
        "2. Central Tendency: The histogram allows for an assessment of the central tendency of sentiment polarity values. The peak or the highest bar in the histogram indicates the most frequent sentiment polarity value or the central tendency of the data. This insight provides information about the average sentiment polarity or the most common sentiment expressed in the dataset.\n",
        "\n",
        "3. Dispersion: The histogram provides insights into the dispersion or spread of sentiment polarity values. The width of the histogram and the distribution of values across the bins indicate the range and variability of sentiment polarities. This insight helps understand the diversity of sentiments expressed within the dataset and whether the sentiment polarity values are concentrated or spread out.\n",
        "\n",
        "4. Outliers: The histogram can reveal any outliers or extreme values in the sentiment polarity distribution. Outliers are represented by bars that are significantly taller or shorter than the surrounding bars. Identifying outliers in sentiment polarity values can highlight exceptional or unusual sentiments that deviate from the general sentiment pattern.\n",
        "\n",
        "5. Skewness: The shape of the histogram can provide insights into the skewness of sentiment polarity values. If the histogram is asymmetric, it indicates that the sentiment polarity distribution is skewed towards positive or negative values. Skewness can reveal whether there is a bias towards positive or negative sentiments within the dataset.\n",
        "\n",
        "These insights derived from the histogram can assist in understanding the sentiment polarity distribution, central tendency, dispersion, outliers, and skewness within the dataset. This information can be valuable for sentiment analysis, customer feedback analysis, opinion mining, and decision-making related to customer satisfaction, product improvements, marketing strategies, and reputation management."
      ],
      "metadata": {
        "id": "ozQPc2_Ip1cl"
      }
    },
    {
      "cell_type": "markdown",
      "source": [
        "##### 3. Will the gained insights help creating a positive business impact?\n",
        "Are there any insights that lead to negative growth? Justify with specific reason."
      ],
      "metadata": {
        "id": "3MPXvC8up1cl"
      }
    },
    {
      "cell_type": "markdown",
      "source": [
        "The gained insights from the histogram visualization of the distribution of sentiment polarity values can potentially help create a positive business impact. Here's why:\n",
        "\n",
        "1. Understanding Sentiment Distribution: The histogram provides insights into the distribution of sentiment polarity values, indicating the prevalence of positive, negative, or neutral sentiments within the dataset. This understanding of the sentiment distribution can help businesses gauge the overall sentiment tone of customer feedback, social media mentions, or product reviews. Positive sentiment distribution can reflect customer satisfaction, which is essential for positive business impact.\n",
        "\n",
        "2. Identifying Central Tendency: The histogram allows for the identification of the central tendency of sentiment polarity values, such as the most frequent sentiment polarity or the mode of the data. This insight helps businesses understand the average sentiment expressed by customers. If the central tendency reflects predominantly positive sentiments, it can indicate a positive customer perception and potentially lead to positive business impact.\n",
        "\n",
        "3. Assessing Sentiment Spread and Diversity: The histogram helps evaluate the spread and diversity of sentiment polarity values. Businesses can examine whether sentiments are concentrated within a narrow range or spread out across a wider range. A wider spread suggests a diverse range of opinions and perspectives. Understanding sentiment diversity enables businesses to tailor their strategies and address specific customer needs, potentially leading to positive business impact through increased customer satisfaction and loyalty.\n",
        "\n",
        "4. Identifying Outliers: The histogram allows for the identification of outliers or extreme sentiment polarity values. Outliers might represent exceptional or unusual sentiments that deviate from the general sentiment pattern. Identifying outliers helps businesses recognize potential issues, concerns, or exceptional experiences that may require attention. Addressing outliers and outliers-related issues can contribute to improved customer experiences and, consequently, positive business impact.\n",
        "\n",
        "However, it's important to interpret the results in the context of the business and its specific goals. Negative growth implications can arise if the insights are not appropriately addressed. Here's a specific scenario:\n",
        "\n",
        "If the histogram reveals a highly skewed distribution with a significant number of negative sentiment polarities, it may indicate a negative customer perception or dissatisfaction. This negative sentiment distribution could potentially lead to negative growth if the underlying issues causing negative sentiments are not addressed. It may require businesses to investigate and rectify the causes of negative sentiment, such as product flaws, customer service issues, or marketing misalignment.\n",
        "\n",
        "Overall, the impact of the gained insights and their potential positive or negative outcomes will depend on various factors, including the specific context of the business, target audience, industry dynamics, and competitive landscape. Leveraging the insights to understand sentiment distribution, address outliers, and tailor strategies based on sentiment diversity can contribute to positive business impact. Continuous monitoring, timely responses, and strategic actions to address negative sentiment patterns are crucial for maintaining positive growth and mitigating any potential negative consequences."
      ],
      "metadata": {
        "id": "GL8l1tdLp1cl"
      }
    },
    {
      "cell_type": "markdown",
      "source": [
        "#### Chart - 14 - Correlation Heatmap"
      ],
      "metadata": {
        "id": "NC_X3p0fY2L0"
      }
    },
    {
      "cell_type": "code",
      "source": [
        "# Correlation Heatmap visualization code\n",
        "\n",
        "f,ax = plt.subplots(figsize=(12, 12))\n",
        "sns.heatmap(data.corr(), annot=True, linewidths=.5, fmt= '.1f',ax=ax)\n",
        "plt.show()\n"
      ],
      "metadata": {
        "id": "xyC9zolEZNRQ"
      },
      "execution_count": null,
      "outputs": []
    },
    {
      "cell_type": "markdown",
      "source": [
        "##### 1. Why did you pick the specific chart?"
      ],
      "metadata": {
        "id": "UV0SzAkaZNRQ"
      }
    },
    {
      "cell_type": "markdown",
      "source": [
        "The specific chart chosen  can be a suitable choice for visualizing the correlation between variables in the dataset. Here are some reasons why a heatmap can be a good option:\n",
        "\n",
        "1. Compact Representation: A heatmap provides a compact and concise representation of the correlation matrix. It condenses the pairwise correlation coefficients into a single visual display, making it easier to interpret and compare the relationships between multiple variables.\n",
        "\n",
        "2. Visual Clarity: The use of colors in a heatmap allows for quick visual assessment of the strength and direction of correlations. Darker colors represent stronger correlations, while lighter colors represent weaker correlations. This color-based representation enhances clarity and facilitates the identification of patterns and relationships.\n",
        "\n",
        "3. Efficient Comparison: The tabular correlation matrix can become overwhelming to interpret, especially with a large number of variables. A heatmap simplifies the comparison between variables by highlighting the strength and direction of correlations in a visually intuitive manner. It enables efficient scanning and identification of significant relationships.\n",
        "\n",
        "4. Multidimensional Analysis: A heatmap enables the examination of relationships among multiple variables simultaneously. It allows for the assessment of correlations across rows and columns, helping to identify clusters or groups of variables that exhibit similar correlation patterns. This multidimensional analysis provides a holistic understanding of the interdependencies between variables.\n",
        "\n",
        "5. Identification of Multicollinearity: The heatmap is effective in identifying multicollinearity, which is the presence of high correlations between independent variables. By visually inspecting the heatmap, businesses can pinpoint pairs of variables with strong correlations, helping to identify redundant or highly related variables. This knowledge is crucial for avoiding multicollinearity issues in statistical modeling.\n",
        "\n",
        "6. Informative Variable Selection: The heatmap aids in selecting informative variables for analysis or modeling. Variables that exhibit strong correlations with the target variable or with each other can be identified, guiding the selection of relevant features or predictors. This promotes efficient variable selection and enhances the accuracy and interpretability of models.\n",
        "\n",
        "By selecting this specific chart, you can effectively visualize and analyze the correlation between variables in the dataset. The heatmap's ability to provide a compact representation, enhance visual clarity, facilitate efficient comparison, enable multidimensional analysis, identify multicollinearity, and inform variable selection makes it a suitable choice for presenting the correlation matrix. It allows for comprehensive exploration of the relationships between variables, aiding in data-driven decision-making, predictive modeling, and understanding the underlying structure of the dataset."
      ],
      "metadata": {
        "id": "DVPuT8LYZNRQ"
      }
    },
    {
      "cell_type": "markdown",
      "source": [
        "##### 2. What is/are the insight(s) found from the chart?"
      ],
      "metadata": {
        "id": "YPEH6qLeZNRQ"
      }
    },
    {
      "cell_type": "markdown",
      "source": [
        "From the heatmap visualization of the correlation matrix between variables, the following insights can be inferred:\n",
        "\n",
        "1. Strength of Correlation: The heatmap provides insights into the strength of correlation between pairs of variables. The color intensity of each square indicates the magnitude of the correlation coefficient. Darker or more intense colors represent stronger correlations, while lighter colors represent weaker correlations. This allows for a quick assessment of the strength of relationships between variables.\n",
        "\n",
        "2. Direction of Correlation: The heatmap reveals the direction of correlation between variables. Positive correlations are indicated by positive values, while negative correlations are indicated by negative values. This insight helps understand whether variables tend to increase or decrease together (positive correlation) or move in opposite directions (negative correlation).\n",
        "\n",
        "3. Multicollinearity: The heatmap helps identify multicollinearity, which refers to high correlations between independent variables. High positive or negative correlations between variables may indicate redundancy or overlap in the information they provide. Detecting multicollinearity is important in statistical modeling, as it can impact the model's stability, interpretability, and predictive accuracy. The heatmap assists in identifying pairs of variables that exhibit high correlations, allowing for further exploration and potential adjustment in modeling approaches.\n",
        "\n",
        "4. Patterns and Clusters: The heatmap can reveal patterns or clusters of variables that exhibit similar correlation patterns. This insight helps identify groups of variables that are strongly correlated with each other but less correlated with variables outside the group. These patterns or clusters can provide valuable insights into underlying relationships and dependencies within the dataset.\n",
        "\n",
        "5. Variable Importance: The heatmap can highlight variables that show strong correlations with multiple other variables. These variables may have a higher degree of importance or influence in the dataset. Identifying such variables helps prioritize feature selection, variable engineering, or model development processes.\n",
        "\n",
        "6. Absence of Correlation: The heatmap also indicates areas of low correlation where variables show little or no linear relationship. These areas can be as informative as areas of high correlation, as they suggest independence between variables and indicate that they provide distinct information. Identifying variables with low correlations can guide decision-making in terms of including or excluding certain variables in analysis or modeling.\n",
        "\n",
        "These insights derived from the heatmap can assist in understanding the interrelationships and dependencies between variables in the dataset. This information is valuable for feature selection, identifying influential variables, understanding data patterns, and optimizing modeling strategies. It enables businesses to make informed decisions, identify potential predictors or drivers of outcomes, and enhance their understanding of the underlying relationships within the data."
      ],
      "metadata": {
        "id": "bfSqtnDqZNRR"
      }
    },
    {
      "cell_type": "markdown",
      "source": [
        "#### Chart - 15 - Pair Plot"
      ],
      "metadata": {
        "id": "q29F0dvdveiT"
      }
    },
    {
      "cell_type": "code",
      "source": [
        "# Pair Plot visualization code\n",
        "\n",
        "\n",
        "import seaborn as sns\n",
        "import matplotlib.pyplot as plt\n",
        "\n",
        "# Load the data\n",
        "data = sns.load_dataset('tips')\n",
        "\n",
        "# Create the pair plot\n",
        "sns.pairplot(data)\n",
        "\n",
        "# Show the plot\n",
        "plt.show()\n"
      ],
      "metadata": {
        "id": "o58-TEIhveiU"
      },
      "execution_count": null,
      "outputs": []
    },
    {
      "cell_type": "markdown",
      "source": [
        "##### 1. Why did you pick the specific chart?"
      ],
      "metadata": {
        "id": "EXh0U9oCveiU"
      }
    },
    {
      "cell_type": "markdown",
      "source": [
        "The specific chart chosen can be a suitable choice for visualizing pairwise relationships between variables in the dataset. Here are some reasons why a pair plot can be a good option:\n",
        "\n",
        "1. Comprehensive Exploration: The pair plot allows for the simultaneous visualization of pairwise relationships between multiple variables. It displays scatter plots for all possible combinations of variables in the dataset, providing a comprehensive view of the relationships. This enables businesses to explore and analyze the interdependencies and patterns between variables in a single visualization.\n",
        "\n",
        "2. Efficient Comparison: The pair plot facilitates the comparison of relationships between different pairs of variables. By placing scatter plots side by side, businesses can easily compare the strength, direction, and shape of relationships between variables. This efficient comparison helps identify which variables are strongly related, which variables show weaker or no relationships, and any non-linear or interaction effects.\n",
        "\n",
        "3. Variable Distributions: The pair plot includes histograms or KDEs along the diagonal, allowing for the visualization of variable distributions. This is valuable for understanding the individual characteristics of each variable, including their range, shape, and potential outliers. Examining the distributions helps identify any deviations from normality, skewness, or multimodality.\n",
        "\n",
        "4. Multivariate Analysis: The pair plot supports multivariate analysis by visualizing relationships between multiple variables simultaneously. This is especially useful when exploring complex datasets with many variables. It provides a holistic view of the data, helping to identify patterns and dependencies that may not be apparent when examining individual variables in isolation.\n",
        "\n",
        "5. Outlier Detection: The pair plot assists in identifying potential outliers or unusual observations that deviate from the general pattern. Outliers can be easily spotted in scatter plots as data points that fall far away from the main cluster of points. Identifying outliers is crucial for understanding data quality, assessing the impact of outliers on relationships, and making informed decisions regarding their treatment.\n",
        "\n",
        "6. Hypothesis Generation: The pair plot serves as a valuable tool for hypothesis generation. By visually exploring the relationships between variables, businesses can generate hypotheses about potential cause-and-effect relationships, associations, or dependencies. These hypotheses can guide further analysis, modeling, or experimentation to validate or refine the initial insights.\n",
        "\n",
        "By selecting this specific chart, you can effectively visualize and analyze the pairwise relationships between variables in the dataset. The pair plot's ability to provide a comprehensive exploration of relationships, facilitate efficient comparison, visualize variable distributions, support multivariate analysis, assist in outlier detection, and aid in hypothesis generation makes it a suitable choice for gaining insights into the underlying patterns and dependencies within the data. It helps businesses make data-driven decisions, identify important variables, and inform modeling or analysis strategies."
      ],
      "metadata": {
        "id": "eMmPjTByveiU"
      }
    },
    {
      "cell_type": "markdown",
      "source": [
        "##### 2. What is/are the insight(s) found from the chart?"
      ],
      "metadata": {
        "id": "22aHeOlLveiV"
      }
    },
    {
      "cell_type": "markdown",
      "source": [
        "From the pair plot visualization, several insights can be derived:\n",
        "\n",
        "1. Variable Distributions: The diagonal plots show the distribution of each variable. This provides insights into the range, central tendency, and shape of the distributions. It helps identify any skewness, multimodality, or outliers in the variables.\n",
        "\n",
        "2. Correlation: The scatter plots in the off-diagonal sections reveal the relationships between pairs of variables. By examining the scatter plots, you can identify the nature of the relationships, such as positive, negative, or no correlation. Positive correlation indicates that as one variable increases, the other tends to increase. Negative correlation indicates an inverse relationship where one variable increases while the other decreases. The absence of any clear pattern suggests no or weak correlation.\n",
        "\n",
        "3. Linear Relationships: Scatter plots can indicate whether the relationship between variables follows a linear pattern. If the data points form a clear linear pattern, it suggests a linear relationship. This insight is important for determining whether a linear regression model can effectively capture the relationship between the variables.\n",
        "\n",
        "4. Outliers: Scatter plots help identify potential outliers or unusual observations. Outliers are data points that fall far away from the general pattern of the data. Detecting outliers is important for understanding data quality, potential errors, or influential observations that can significantly impact analysis or modeling.\n",
        "\n",
        "5. Interaction Effects: If the scatter plots exhibit non-linear patterns or form clusters, it suggests the presence of interaction effects or non-linear relationships between variables. This insight can guide further analysis, such as exploring interaction terms or using non-linear models to capture the relationships accurately.\n",
        "\n",
        "6. Variable Importance: The pair plot allows for a visual comparison of the relationships between different pairs of variables. This can help identify variables that show stronger relationships with multiple other variables. Such variables may have a higher degree of importance or influence in the dataset.\n",
        "\n",
        "These insights derived from the pair plot provide a deeper understanding of the relationships and dependencies between variables in the 'tips' dataset. They aid in identifying patterns, exploring potential predictors, assessing collinearity, and guiding further analysis or modeling decisions. The pair plot is a valuable tool for exploratory data analysis and hypothesis generation, enabling businesses to make data-driven decisions and gain insights into the underlying structure of the dataset."
      ],
      "metadata": {
        "id": "uPQ8RGwHveiV"
      }
    },
    {
      "cell_type": "markdown",
      "source": [
        "## **5. Solution to Business Objective**"
      ],
      "metadata": {
        "id": "JcMwzZxoAimU"
      }
    },
    {
      "cell_type": "markdown",
      "source": [
        "#### What do you suggest the client to achieve Business Objective ?\n",
        "Explain Briefly."
      ],
      "metadata": {
        "id": "8G2x9gOozGDZ"
      }
    },
    {
      "cell_type": "markdown",
      "source": [
        "Overall, the gained insights from these visualizations can help businesses create a positive impact by:\n",
        "\n",
        "Understanding market size, potential revenue, and profit opportunities.\n",
        "Identifying popular categories and optimizing resource allocation.\n",
        "Informing pricing strategies and competitive positioning.\n",
        "Enhancing customer satisfaction and app quality.\n",
        "Identifying market gaps and targeting growth opportunities.\n",
        "However, it's important to note that the specific business impact will depend on the context, industry, and specific goals of the business. Continuous monitoring, evaluation, and strategic actions based on the gained insights are crucial for translating the visualizations into positive business outcomes."
      ],
      "metadata": {
        "id": "pASKb0qOza21"
      }
    },
    {
      "cell_type": "markdown",
      "source": [
        "# **Conclusion**"
      ],
      "metadata": {
        "id": "gCX9965dhzqZ"
      }
    },
    {
      "cell_type": "markdown",
      "source": [
        "It's good to develop a Free type app and having a content rating for Everyone.\n",
        "Percentage of apps that are top rated =                       81.80%\n",
        "There are 20 free apps that have been installed over a billion times\n",
        "Minecraft is the only app in the paid category with over 10M installs,  and also has produced the most revenue only from installation fee.\n",
        "Price, Rating, Size has no or very less correlation with Sentiment Polarity.\n",
        "The median size of the apps in the play store is 12 MB\n",
        "The apps whose size varies with device has the highest number  average app installs.\n",
        "The apps whose size is greater than 90 MB has the highest number  of average user reviews, i.e., they are more popular than the rest.\n",
        "Helix Jump has the highest number of positive reviews and Angry  Birds Classic has the highest number of negative reviews.Write the conclusion here."
      ],
      "metadata": {
        "id": "Fjb1IsQkh3yE"
      }
    },
    {
      "cell_type": "markdown",
      "source": [
        "### ***Hurrah! You have successfully completed your EDA Capstone Project !!!***"
      ],
      "metadata": {
        "id": "gIfDvo9L0UH2"
      }
    },
    {
      "cell_type": "code",
      "source": [],
      "metadata": {
        "id": "bXFcCR1jablI"
      },
      "execution_count": null,
      "outputs": []
    }
  ]
}