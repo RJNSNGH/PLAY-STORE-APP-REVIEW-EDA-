{
  "nbformat": 4,
  "nbformat_minor": 0,
  "metadata": {
    "colab": {
      "private_outputs": true,
      "provenance": [],
      "collapsed_sections": [
        "w6K7xa23Elo4",
        "ijmpgYnKYklI",
        "-JiQyfWJYklI",
        "fge-S5ZAYoAp",
        "85gYPyotYoAp",
        "RoGjAbkUYoAp",
        "iky9q4vBYrdO",
        "F6T5p64dYrdO",
        "y-Ehk30pYrdP",
        "QHF8YVU7Yuh3",
        "GwzvFGzlYuh3",
        "qYpmQ266Yuh3",
        "bbFf2-_FphqN",
        "_ouA3fa0phqN",
        "Seke61FWphqN",
        "t27r6nlMphqO",
        "r2jJGEOYphqO",
        "b0JNsNcRphqO",
        "jj7wYXLtphqO",
        "eZrbJ2SmphqO",
        "rFu4xreNphqO",
        "gCFgpxoyphqP",
        "OVtJsKN_phqQ",
        "lssrdh5qphqQ",
        "1M8mcRywphqQ",
        "tgIPom80phqQ",
        "JMzcOPDDphqR",
        "X_VqEhTip1ck",
        "8zGJKyg5p1ck",
        "PVzmfK_Ep1ck",
        "ylSl6qgtp1ck",
        "ZWILFDl5p1ck",
        "M7G43BXep1ck",
        "Ag9LCva-p1cl",
        "E6MkPsBcp1cl",
        "2cELzS2fp1cl",
        "3MPXvC8up1cl",
        "UV0SzAkaZNRQ",
        "YPEH6qLeZNRQ",
        "EXh0U9oCveiU",
        "22aHeOlLveiV",
        "8G2x9gOozGDZ",
        "gIfDvo9L0UH2"
      ],
      "include_colab_link": true
    },
    "kernelspec": {
      "name": "python3",
      "display_name": "Python 3"
    },
    "language_info": {
      "name": "python"
    }
  },
  "cells": [
    {
      "cell_type": "markdown",
      "metadata": {
        "id": "view-in-github",
        "colab_type": "text"
      },
      "source": [
        "<a href=\"https://colab.research.google.com/github/RJNSNGH/PLAY-STORE-APP-REVIEW-EDA-/blob/main/Play_Store_App_Review_Analysis_Capstone_Project.ipynb\" target=\"_parent\"><img src=\"https://colab.research.google.com/assets/colab-badge.svg\" alt=\"Open In Colab\"/></a>"
      ]
    },
    {
      "cell_type": "markdown",
      "source": [
        "# **Project Name**    - \n",
        "\n"
      ],
      "metadata": {
        "id": "vncDsAP0Gaoa"
      }
    },
    {
      "cell_type": "markdown",
      "source": [
        "##### **Project Type**    - EDA\n",
        "##### **Contribution**    - Individual\n",
        "##### **Team Member 1 -**   Rajan singh\n"
      ],
      "metadata": {
        "id": "beRrZCGUAJYm"
      }
    },
    {
      "cell_type": "markdown",
      "source": [
        "# **Project Summary -**"
      ],
      "metadata": {
        "id": "FJNUwmbgGyua"
      }
    },
    {
      "cell_type": "markdown",
      "source": [
        "Write the summary here within 500-600 words.\n",
        "\n",
        "\n",
        "* The project aimed to analyze and visualize app data from the Google Play Store. The dataset included information such as app names, categories, ratings, reviews, sizes, installs, prices, content ratings, genres, and more. The goal was to gain insights from the data and create meaningful visualizations.\n",
        "\n",
        "* The project involved several data wrangling and cleaning steps. Missing values were dropped from the \"Sentiment_Polarity\" and \"Sentiment_Subjectivity\" columns using the `dropna()` function. The \"Sentiment_Polarity\" column was then binned into discrete categories using the `pd.cut()` function, and the \"Sentiment_Polarity\" and \"Sentiment_Subjectivity\" columns were normalized to a range of 0 to 1.\n",
        "\n",
        "* After the data preprocessing, various visualizations were created to explore the dataset. The visualizations included bar charts, histograms, scatter plots, box plots, and pie charts. Each chart type was selected based on the nature of the data and the insights to be conveyed.\n",
        "\n",
        "For example, bar charts were used to display the count or frequency of app categories, content ratings, and genres. Histograms were utilized to visualize the distributions of ratings, sizes, and prices. Scatter plots showcased the relationship between reviews and ratings. Box plots provided insights into the distribution and outliers of prices. Pie charts demonstrated the proportion of different app types.\n",
        "\n",
        "* The visualizations aimed to provide insights into the market size, app ratings, pricing patterns, and genre distribution. They helped identify popular app categories, explore relationships between variables, and understand the overall distribution of key attributes.\n",
        "\n",
        "Overall, the project successfully explored and visualized the app data from the Google Play Store, providing valuable insights and facilitating a better understanding of the dataset. The visualizations allowed for data-driven decision-making and informed analysis of app-related trends and patterns.\n",
        "\n"
      ],
      "metadata": {
        "id": "F6v_1wHtG2nS"
      }
    },
    {
      "cell_type": "markdown",
      "source": [
        "# **GitHub Link -**"
      ],
      "metadata": {
        "id": "w6K7xa23Elo4"
      }
    },
    {
      "cell_type": "markdown",
      "source": [
        "Provide your GitHub Link here."
      ],
      "metadata": {
        "id": "h1o69JH3Eqqn"
      }
    },
    {
      "cell_type": "markdown",
      "source": [
        "# **Problem Statement**\n"
      ],
      "metadata": {
        "id": "yQaldy8SH6Dl"
      }
    },
    {
      "cell_type": "markdown",
      "source": [
        "**Write Problem Statement Here.**\n",
        "\n",
        "## <b> The Play Store apps data has enormous potential to drive app-making businesses to success. Actionable insights can be drawn for developers to work on and capture the Android market. </b>\n",
        "\n",
        "## <b> Each app (row) has values for catergory, rating, size, and more. Another dataset contains customer reviews of the android apps.</b>\n",
        "\n",
        "## <b> Explore and analyze the data to discover key factors responsible for app engagement and success. </b>"
      ],
      "metadata": {
        "id": "DpeJGUA3kjGy"
      }
    },
    {
      "cell_type": "markdown",
      "source": [
        "#### **Define Your Business Objective?**"
      ],
      "metadata": {
        "id": "PH-0ReGfmX4f"
      }
    },
    {
      "cell_type": "markdown",
      "source": [
        " The business objectives for analyzing Play Store apps data and customer reviews could be:\n",
        "\n",
        "1. Increase app engagement and user satisfaction.\n",
        "2. Boost app ratings and reviews.\n",
        "3. Optimize app store visibility.\n",
        "4. Identify key success factors for app development.\n",
        "5. Conduct competitor analysis.\n",
        "6. Make data-driven decisions in app development.\n",
        "7. Improve customer support.\n",
        "8. Identify niche market opportunities.\n",
        "9. Drive app monetization.\n",
        "10. Align analysis objectives with overall business strategy."
      ],
      "metadata": {
        "id": "PhDvGCAqmjP1"
      }
    },
    {
      "cell_type": "markdown",
      "source": [
        "# **General Guidelines** : -  "
      ],
      "metadata": {
        "id": "mDgbUHAGgjLW"
      }
    },
    {
      "cell_type": "markdown",
      "source": [
        "1.   Well-structured, formatted, and commented code is required. \n",
        "2.   Exception Handling, Production Grade Code & Deployment Ready Code will be a plus. Those students will be awarded some additional credits. \n",
        "     \n",
        "     The additional credits will have advantages over other students during Star Student selection.\n",
        "       \n",
        "             [ Note: - Deployment Ready Code is defined as, the whole .ipynb notebook should be executable in one go\n",
        "                       without a single error logged. ]\n",
        "\n",
        "3.   Each and every logic should have proper comments.\n",
        "4. You may add as many number of charts you want. Make Sure for each and every chart the following format should be answered.\n",
        "        \n",
        "\n",
        "```\n",
        "# Chart visualization code\n",
        "```\n",
        "            \n",
        "\n",
        "*   Why did you pick the specific chart?\n",
        "*   What is/are the insight(s) found from the chart?\n",
        "* Will the gained insights help creating a positive business impact? \n",
        "Are there any insights that lead to negative growth? Justify with specific reason.\n",
        "\n",
        "5. You have to create at least 20 logical & meaningful charts having important insights.\n",
        "\n",
        "\n",
        "[ Hints : - Do the Vizualization in  a structured way while following \"UBM\" Rule. \n",
        "\n",
        "U - Univariate Analysis,\n",
        "\n",
        "B - Bivariate Analysis (Numerical - Categorical, Numerical - Numerical, Categorical - Categorical)\n",
        "\n",
        "M - Multivariate Analysis\n",
        " ]\n",
        "\n",
        "\n",
        "\n"
      ],
      "metadata": {
        "id": "ZrxVaUj-hHfC"
      }
    },
    {
      "cell_type": "markdown",
      "source": [
        "# ***Let's Begin !***"
      ],
      "metadata": {
        "id": "O_i_v8NEhb9l"
      }
    },
    {
      "cell_type": "markdown",
      "source": [
        "## ***1. Know Your Data***"
      ],
      "metadata": {
        "id": "HhfV-JJviCcP"
      }
    },
    {
      "cell_type": "markdown",
      "source": [
        "### Import Libraries"
      ],
      "metadata": {
        "id": "Y3lxredqlCYt"
      }
    },
    {
      "cell_type": "code",
      "source": [
        "# Import Libraries\n",
        "# Import all libraries\n",
        "import pandas as pd # data processing, CSV file I/O (e.g. pd.read_csv)\n",
        "import numpy as np # linear algebra\n",
        "import matplotlib.pyplot as plt # ploting the data\n",
        "import seaborn as sns # ploting the data\n",
        "import math # calculation"
      ],
      "metadata": {
        "id": "M8Vqi-pPk-HR"
      },
      "execution_count": null,
      "outputs": []
    },
    {
      "cell_type": "markdown",
      "source": [
        "### Dataset Loading"
      ],
      "metadata": {
        "id": "3RnN4peoiCZX"
      }
    },
    {
      "cell_type": "code",
      "source": [
        "# mounting google drive \n",
        "from google.colab import drive\n",
        "drive.mount('/content/drive')\n",
        "\n"
      ],
      "metadata": {
        "id": "4CkvbW_SlZ_R"
      },
      "execution_count": null,
      "outputs": []
    },
    {
      "cell_type": "code",
      "source": [
        "# Load Dataset\n",
        "#read the dataset and check the first five rows\n",
        "data1 =  pd.read_csv('/content/drive/MyDrive/playstore/Copy of Play Store Data.csv',parse_dates=['Last Updated'])\n",
        "data2 = pd.read_csv('/content/drive/MyDrive/playstore/Copy of User Reviews.csv')"
      ],
      "metadata": {
        "id": "3RfkWtaor_Mx"
      },
      "execution_count": null,
      "outputs": []
    },
    {
      "cell_type": "code",
      "source": [
        "data1"
      ],
      "metadata": {
        "id": "gh0PA1lq4JzO"
      },
      "execution_count": null,
      "outputs": []
    },
    {
      "cell_type": "code",
      "source": [
        "data2"
      ],
      "metadata": {
        "id": "R11SYRzR4P2s"
      },
      "execution_count": null,
      "outputs": []
    },
    {
      "cell_type": "code",
      "source": [
        "import pandas as pd\n",
        "\n",
        "# Taking  a common column 'App' that can be used for joining\n",
        "data = pd.merge(data1, data2, on='App', how='inner')\n",
        "\n",
        "# The resulting 'concatenated_data' dataframe will have rows from both datasets stacked vertically\n",
        "\n"
      ],
      "metadata": {
        "id": "Z9k06H1BtFKO"
      },
      "execution_count": null,
      "outputs": []
    },
    {
      "cell_type": "markdown",
      "source": [
        "### Dataset First View"
      ],
      "metadata": {
        "id": "x71ZqKXriCWQ"
      }
    },
    {
      "cell_type": "code",
      "source": [
        "# Dataset First Look\n",
        "data"
      ],
      "metadata": {
        "id": "LWNFOSvLl09H"
      },
      "execution_count": null,
      "outputs": []
    },
    {
      "cell_type": "code",
      "source": [
        "data.tail()"
      ],
      "metadata": {
        "id": "Yk7rI3ZehQUw"
      },
      "execution_count": null,
      "outputs": []
    },
    {
      "cell_type": "markdown",
      "source": [
        "### Dataset Rows & Columns count"
      ],
      "metadata": {
        "id": "7hBIi_osiCS2"
      }
    },
    {
      "cell_type": "code",
      "source": [
        "# Dataset Rows & Columns count\n",
        "\n",
        "data1.columns"
      ],
      "metadata": {
        "id": "Kllu7SJgmLij"
      },
      "execution_count": null,
      "outputs": []
    },
    {
      "cell_type": "code",
      "source": [
        "data.shape"
      ],
      "metadata": {
        "id": "uhzlMYneWnZ7"
      },
      "execution_count": null,
      "outputs": []
    },
    {
      "cell_type": "markdown",
      "source": [
        "### Dataset Information"
      ],
      "metadata": {
        "id": "JlHwYmJAmNHm"
      }
    },
    {
      "cell_type": "code",
      "source": [
        "# Dataset Info\n",
        "data.info()\n"
      ],
      "metadata": {
        "id": "e9hRXRi6meOf"
      },
      "execution_count": null,
      "outputs": []
    },
    {
      "cell_type": "code",
      "source": [
        "data.describe()"
      ],
      "metadata": {
        "id": "3YPF5_i8JSZn"
      },
      "execution_count": null,
      "outputs": []
    },
    {
      "cell_type": "markdown",
      "source": [
        "#### Duplicate Values"
      ],
      "metadata": {
        "id": "35m5QtbWiB9F"
      }
    },
    {
      "cell_type": "code",
      "source": [
        "# Dataset Duplicate Value Count\n",
        "\n",
        "# Assuming you have a dataset named 'data' that you want to count duplicate values in\n",
        "duplicate_count = data.duplicated().sum()\n",
        "\n",
        "# The 'duplicated()' function identifies duplicate rows in the dataset\n",
        "# The 'sum()' function sums the boolean values, where 'True' represents a duplicate row\n",
        "\n",
        "print(\"Number of duplicate values:\", duplicate_count)\n"
      ],
      "metadata": {
        "id": "1sLdpKYkmox0"
      },
      "execution_count": null,
      "outputs": []
    },
    {
      "cell_type": "markdown",
      "source": [
        "#### Missing Values/Null Values"
      ],
      "metadata": {
        "id": "PoPl-ycgm1ru"
      }
    },
    {
      "cell_type": "code",
      "source": [
        "# Missing Values/Null Values Count\n",
        "data.isnull().sum()"
      ],
      "metadata": {
        "id": "GgHWkxvamxVg"
      },
      "execution_count": null,
      "outputs": []
    },
    {
      "cell_type": "code",
      "source": [],
      "metadata": {
        "id": "iQzUZCvKNG20"
      },
      "execution_count": null,
      "outputs": []
    },
    {
      "cell_type": "code",
      "source": [
        "# Visualizing the missing values\n",
        "#checking the null values through seaborn \n",
        "\n",
        "sns.heatmap(data.isnull(),yticklabels=False,cbar=False,cmap='viridis')"
      ],
      "metadata": {
        "id": "3q5wnI3om9sJ"
      },
      "execution_count": null,
      "outputs": []
    },
    {
      "cell_type": "markdown",
      "source": [
        "### What did you know about your dataset?"
      ],
      "metadata": {
        "id": "H0kj-8xxnORC"
      }
    },
    {
      "cell_type": "markdown",
      "source": [
        "Answer Here"
      ],
      "metadata": {
        "id": "gfoNAAC-nUe_"
      }
    },
    {
      "cell_type": "markdown",
      "source": [
        "## ***2. Understanding Your Variables***"
      ],
      "metadata": {
        "id": "nA9Y7ga8ng1Z"
      }
    },
    {
      "cell_type": "code",
      "source": [
        "# Dataset Columns\n",
        "\n",
        "# Get information about variable types\n",
        "variable_types = data.dtypes\n",
        "print(\"Variable Types:\")\n",
        "print(variable_types)\n",
        "\n",
        "# Describe numerical variables\n",
        "numerical_variables = data.select_dtypes(include=['int', 'float'])\n",
        "numerical_description = numerical_variables.describe()\n",
        "print(\"\\nNumerical Variable Description:\")\n",
        "print(numerical_description)\n",
        "\n",
        "# Explore categorical variables\n",
        "categorical_variables = data.select_dtypes(include=['object'])\n",
        "categorical_unique_values = categorical_variables.nunique()\n",
        "print(\"\\nCategorical Variable Unique Values:\")\n",
        "print(categorical_unique_values)\n",
        "\n",
        "# Check for missing values\n",
        "missing_values_count = data.isnull().sum()\n",
        "print(\"\\nMissing Values Count:\")\n",
        "print(missing_values_count)\n",
        "\n",
        "# Calculate correlations between variables\n",
        "correlation_matrix = data.corr()\n",
        "print(\"\\nCorrelation Matrix:\")\n",
        "print(correlation_matrix)\n"
      ],
      "metadata": {
        "id": "j7xfkqrt5Ag5"
      },
      "execution_count": null,
      "outputs": []
    },
    {
      "cell_type": "code",
      "source": [
        "# Dataset Describe"
      ],
      "metadata": {
        "id": "DnOaZdaE5Q5t"
      },
      "execution_count": null,
      "outputs": []
    },
    {
      "cell_type": "markdown",
      "source": [
        "### Variables Description "
      ],
      "metadata": {
        "id": "PBTbrJXOngz2"
      }
    },
    {
      "cell_type": "markdown",
      "source": [
        "Answer Here"
      ],
      "metadata": {
        "id": "aJV4KIxSnxay"
      }
    },
    {
      "cell_type": "markdown",
      "source": [
        "### Check Unique Values for each variable."
      ],
      "metadata": {
        "id": "u3PMJOP6ngxN"
      }
    },
    {
      "cell_type": "code",
      "source": [
        "# Check Unique Values for each variable.\n",
        "data['App'].unique()"
      ],
      "metadata": {
        "id": "zms12Yq5n-jE"
      },
      "execution_count": null,
      "outputs": []
    },
    {
      "cell_type": "code",
      "source": [
        "data['Size'].unique()"
      ],
      "metadata": {
        "id": "AD3MqJwSi62Y"
      },
      "execution_count": null,
      "outputs": []
    },
    {
      "cell_type": "markdown",
      "source": [
        "## 3. ***Data Wrangling***"
      ],
      "metadata": {
        "id": "dauF4eBmngu3"
      }
    },
    {
      "cell_type": "markdown",
      "source": [
        "### Data Wrangling Code"
      ],
      "metadata": {
        "id": "bKJF3rekwFvQ"
      }
    },
    {
      "cell_type": "code",
      "source": [
        "'''# Write your code to make your dataset analysis ready.\n",
        "import pandas as pd\n",
        "\n",
        "# Assuming you have a dataset named 'data' that needs to be wrangled\n",
        "\n",
        "# 1. Handling Missing Values\n",
        "# Drop rows with missing values\n",
        "data = data.dropna()\n",
        "\n",
        "# Fill missing values with a specific value\n",
        "data['column_name'] = data['column_name'].fillna(value)\n",
        "\n",
        "# 2. Removing Duplicates\n",
        "# Drop duplicate rows\n",
        "data = data.drop_duplicates()\n",
        "\n",
        "# 3. Removing Irrelevant Columns\n",
        "# Drop columns that are not needed for analysis\n",
        "data = data.drop(['column_name1', 'column_name2'], axis=1)\n",
        "\n",
        "# 4. Renaming Columns\n",
        "# Rename columns for clarity\n",
        "data = data.rename(columns={'old_name': 'new_name'})\n",
        "\n",
        "# 5. Changing Data Types\n",
        "# Convert column data types\n",
        "data['column_name'] = data['column_name'].astype('new_data_type')\n",
        "\n",
        "# 6. Handling Outliers\n",
        "# Identify and handle outliers in numerical columns\n",
        "data = data[(data['column_name'] >= lower_bound) & (data['column_name'] <= upper_bound)]\n",
        "\n",
        "# 7. Aggregating Data\n",
        "# Group by a column and calculate summary statistics\n",
        "grouped_data = data.groupby('column_name').agg({'column_name': 'count', 'numerical_column': 'mean'})\n",
        "\n",
        "# 8. Sorting Data\n",
        "# Sort data based on one or more columns\n",
        "sorted_data = data.sort_values(by='column_name', ascending=True)\n",
        "\n",
        "# 9. Filtering Data\n",
        "# Filter data based on specific conditions\n",
        "filtered_data = data[data['column_name'] > threshold]\n",
        "\n",
        "# 10. Reshaping Data\n",
        "# Pivot data to create a new view\n",
        "pivoted_data = data.pivot(index='column1', columns='column2', values='column3')\n",
        "\n",
        "# 11. Merging Data\n",
        "# Merge two or more datasets based on common columns\n",
        "merged_data = pd.merge(data1, data2, on='common_column', how='inner')\n",
        "\n",
        "# 12. Handling Text Data\n",
        "# Perform text preprocessing tasks such as tokenization, normalization, etc.\n",
        "data['text_column'] = data['text_column'].apply(preprocess_function)\n",
        "\n",
        "# Note: Replace 'data' and 'column_name' with the actual variable and column names in your dataset.\n",
        "\n",
        "# After performing the necessary data wrangling tasks, the modified 'data' dataframe is ready for analysis.'''\n",
        "\n"
      ],
      "metadata": {
        "id": "wk-9a2fpoLcV"
      },
      "execution_count": null,
      "outputs": []
    },
    {
      "cell_type": "code",
      "source": [
        "data['Last Updated'] = pd.to_datetime(data['Last Updated'],errors='coerce')"
      ],
      "metadata": {
        "id": "FkoB6rXpVCfB"
      },
      "execution_count": null,
      "outputs": []
    },
    {
      "cell_type": "code",
      "source": [
        "data.sort_values(by='Last Updated',inplace=True)"
      ],
      "metadata": {
        "id": "asJGfj7rSoTG"
      },
      "execution_count": null,
      "outputs": []
    },
    {
      "cell_type": "code",
      "source": [
        "data.sort_values(by=['Last Updated'],ascending=False)"
      ],
      "metadata": {
        "id": "ZwBJUTZGVTpx"
      },
      "execution_count": null,
      "outputs": []
    },
    {
      "cell_type": "code",
      "source": [
        "data['Last Updated']"
      ],
      "metadata": {
        "id": "DrT84InOUw-j"
      },
      "execution_count": null,
      "outputs": []
    },
    {
      "cell_type": "code",
      "source": [
        "data['Type'].isnull().sum()"
      ],
      "metadata": {
        "id": "cGeGl1ybVHUf"
      },
      "execution_count": null,
      "outputs": []
    },
    {
      "cell_type": "code",
      "source": [
        "data['Type'].unique()"
      ],
      "metadata": {
        "id": "oOW6q1ZMVqbZ"
      },
      "execution_count": null,
      "outputs": []
    },
    {
      "cell_type": "code",
      "source": [
        "data['Price'].unique()"
      ],
      "metadata": {
        "id": "vD1IdJ5YWE6N"
      },
      "execution_count": null,
      "outputs": []
    },
    {
      "cell_type": "code",
      "source": [],
      "metadata": {
        "id": "UaS0QFRovvIN"
      },
      "execution_count": null,
      "outputs": []
    },
    {
      "cell_type": "code",
      "source": [],
      "metadata": {
        "id": "fqSeaPvgv79L"
      },
      "execution_count": null,
      "outputs": []
    },
    {
      "cell_type": "code",
      "source": [
        "data.info()"
      ],
      "metadata": {
        "id": "Yp9i8UywWFVi"
      },
      "execution_count": null,
      "outputs": []
    },
    {
      "cell_type": "code",
      "source": [
        "data['Genres'].value_counts(ascending=True)"
      ],
      "metadata": {
        "id": "k-3e1YmsXB1o"
      },
      "execution_count": null,
      "outputs": []
    },
    {
      "cell_type": "code",
      "source": [
        "# Changing Data Types\n",
        "# Convert column data types\n",
        "data['Reviews'] = data['Reviews'].astype('int64')"
      ],
      "metadata": {
        "id": "JwvnKloKXRih"
      },
      "execution_count": null,
      "outputs": []
    },
    {
      "cell_type": "code",
      "source": [
        "data['Installs'] = data['Installs'].str.replace(',', '')\n",
        "data['Installs'] = data['Installs'].replace(',','')\n",
        "data[\"Installs\"] = data[\"Installs\"].str.replace(\"+\", \"\")\n",
        "data['Installs'] = pd.to_numeric(data['Installs'])"
      ],
      "metadata": {
        "id": "KNN1h0xGXWzN"
      },
      "execution_count": null,
      "outputs": []
    },
    {
      "cell_type": "code",
      "source": [
        "data['Size'].unique()"
      ],
      "metadata": {
        "id": "K2ee55JjlTHf"
      },
      "execution_count": null,
      "outputs": []
    },
    {
      "cell_type": "code",
      "source": [
        "'''The provided code defines a function called size that takes a string s and a default value default_val, and returns an integer. The function converts the size value represented in kilobytes ('k') or megabytes ('M') to bytes. If the size value does not end with 'k' or 'M', it assigns the default value.\n",
        "\n",
        "The code then applies this size function to the 'Size' column of the DataFrame df using the apply method and a lambda function. It replaces the values in the 'Size' column with the converted sizes in bytes.\n",
        "\n",
        "By using this code, the 'Size' column in the DataFrame df will be updated with the converted size values in bytes. Sizes represented in kilobytes will be multiplied by 1,000, and sizes represented in megabytes will be multiplied by 1,000,000. If a size value does not end with 'k' or 'M', the default value of 9,400,000 will be assigned.'''\n",
        "\n",
        "\n",
        "\n",
        "def size(s: str, default_val: int) -> int:\n",
        "    x: int\n",
        "    if s[-1] == 'k':\n",
        "        x = int(float(s[:-1]) * 1_000)\n",
        "    elif s[-1] == 'M':\n",
        "        x = int(float(s[:-1]) * 1_000_000)\n",
        "    else:\n",
        "        x = default_val\n",
        "    return x\n",
        "\n",
        "data['Size'] = data['Size'].apply(lambda s: size(s, 9_400_000))\n"
      ],
      "metadata": {
        "id": "tkMFe-9ukasB"
      },
      "execution_count": null,
      "outputs": []
    },
    {
      "cell_type": "code",
      "source": [
        "data['Rating'].isnull().sum()"
      ],
      "metadata": {
        "id": "dKvvCfi3XjXs"
      },
      "execution_count": null,
      "outputs": []
    },
    {
      "cell_type": "code",
      "source": [
        "#replacing all NaN values in 'Rating' with 0\n",
        "data.fillna({'Rating':0}, inplace=True)"
      ],
      "metadata": {
        "id": "UXFrfAtLXkyO"
      },
      "execution_count": null,
      "outputs": []
    },
    {
      "cell_type": "code",
      "source": [
        "data['Rating'].head().dtype:np.float64"
      ],
      "metadata": {
        "id": "-KykT_DfXk1m"
      },
      "execution_count": null,
      "outputs": []
    },
    {
      "cell_type": "code",
      "source": [
        "data['Rating'].max"
      ],
      "metadata": {
        "id": "_WRbdj3cX1EG"
      },
      "execution_count": null,
      "outputs": []
    },
    {
      "cell_type": "code",
      "source": [
        "data['Rating'].min"
      ],
      "metadata": {
        "id": "dSQMvIQ7X9Xw"
      },
      "execution_count": null,
      "outputs": []
    },
    {
      "cell_type": "code",
      "source": [
        "columns = ['Current Ver', 'Android Ver']\n",
        "    \n",
        "for col in columns:\n",
        "    data[col] = pd.to_numeric(data[col].astype(str).str.replace(r'[a-zA-Z]', '', regex=True)\\\n",
        "                                    .str.strip(), errors='coerce').fillna(0)\n",
        "'''for col in columns:\n",
        "    data[col] = pd.to_numeric(data[col].astype(str).str.replace(r'[a-zA-Z]', '', regex=True)\\\n",
        "                                    .str.strip(), errors='coerce').fillna(0)'''\n"
      ],
      "metadata": {
        "id": "zjRsDallX9bL"
      },
      "execution_count": null,
      "outputs": []
    },
    {
      "cell_type": "code",
      "source": [
        "data\n"
      ],
      "metadata": {
        "id": "HkvOPOS6heG-"
      },
      "execution_count": null,
      "outputs": []
    },
    {
      "cell_type": "code",
      "source": [
        "\n",
        "# Data cleaning: Removing rows with missing values\n",
        "data.dropna(subset=[\"Sentiment_Polarity\", \"Sentiment_Subjectivity\"], inplace=True)\n",
        "\n",
        "# Data transformation: Binning Sentiment_Polarity into discrete categories\n",
        "bins = [-np.inf, 0, np.inf]\n",
        "labels = [\"Negative\", \"Positive\"]\n",
        "data[\"Sentiment_Category\"] = pd.cut(data[\"Sentiment_Polarity\"], bins=bins, labels=labels)\n",
        "\n",
        "# Data transformation: Normalizing Sentiment_Polarity and Sentiment_Subjectivity\n",
        "data[\"Normalized_Polarity\"] = (data[\"Sentiment_Polarity\"] - data[\"Sentiment_Polarity\"].min()) / (data[\"Sentiment_Polarity\"].max() - data[\"Sentiment_Polarity\"].min())\n",
        "data[\"Normalized_Subjectivity\"] = (data[\"Sentiment_Subjectivity\"] - data[\"Sentiment_Subjectivity\"].min()) / (data[\"Sentiment_Subjectivity\"].max() - data[\"Sentiment_Subjectivity\"].min())\n",
        "\n",
        "# Data analysis: Calculating summary statistics\n",
        "polarity_mean = data[\"Sentiment_Polarity\"].mean()\n",
        "subjectivity_median = data[\"Sentiment_Subjectivity\"].median()\n",
        "\n",
        "# Feature engineering: Creating a new feature based on Sentiment_Polarity and Sentiment_Subjectivity\n",
        "data[\"Polarity_Subjectivity_Difference\"] = data[\"Sentiment_Polarity\"] - data[\"Sentiment_Subjectivity\"]\n",
        "\n",
        "# Displaying the modified DataFrame\n",
        "print(data.head())\n",
        "\n"
      ],
      "metadata": {
        "id": "OfWnvbAAX9ts"
      },
      "execution_count": null,
      "outputs": []
    },
    {
      "cell_type": "code",
      "source": [
        "data.tail()\n"
      ],
      "metadata": {
        "id": "oISafKknCK8e"
      },
      "execution_count": null,
      "outputs": []
    },
    {
      "cell_type": "code",
      "source": [
        "columns = ['Installs', 'Price']\n",
        "for col in columns:\n",
        "    data[col] = pd.to_numeric(data[col].replace(r'\\D', '', regex=True))"
      ],
      "metadata": {
        "id": "smCYMi26awuc"
      },
      "execution_count": null,
      "outputs": []
    },
    {
      "cell_type": "code",
      "source": [
        "# What is the size of the market? numbers of download and $\n",
        "\n",
        "result = data.groupby(['Category'])[['Price', 'Installs']].sum().sort_values(by=['Price', 'Installs'], ascending=[False, False])\n",
        "print(result)\n",
        "\n",
        "\n"
      ],
      "metadata": {
        "id": "9oSWTZOLKRKH"
      },
      "execution_count": null,
      "outputs": []
    },
    {
      "cell_type": "code",
      "source": [
        "# Same question but per category? (percentages please)\n",
        "\n",
        "(data.groupby(['Category']).agg('sum')['Price']\\\n",
        "                    .transform(lambda x: x/x.sum())*100)\\\n",
        "                    .to_frame().sort_values(by='Price', ascending=False)"
      ],
      "metadata": {
        "id": "GIynLrBuLYEY"
      },
      "execution_count": null,
      "outputs": []
    },
    {
      "cell_type": "code",
      "source": [
        "# Depending on each category, what are the ratio of download per app?\n",
        "\n",
        "(data.groupby(['Category']).agg('sum')['Installs']\\\n",
        "                .transform(lambda x: x/x.sum())*100)\\\n",
        "                .to_frame().sort_values(by='Installs', ascending=False)"
      ],
      "metadata": {
        "id": "6fhBK050bgWL"
      },
      "execution_count": null,
      "outputs": []
    },
    {
      "cell_type": "markdown",
      "source": [
        "### What all manipulations have you done and insights you found?"
      ],
      "metadata": {
        "id": "MSa1f5Uengrz"
      }
    },
    {
      "cell_type": "markdown",
      "source": [
        "Based on the information provided and the manipulations performed, here are the key actions taken and insights obtained:\n",
        "\n",
        "1. The dataset consists of the following columns: 'App', 'Category', 'Rating', 'Reviews', 'Size', 'Installs', 'Price', 'Content Rating', and 'Genres'.\n",
        "2. Missing values in the 'Rating' column were filled with the mean value of the column.\n",
        "3. The 'Size' column contained a mixture of sizes expressed in kilobytes (k) and megabytes (M), as well as some entries with 'Varies with device'. These values were converted to numeric format, representing the size in bytes.\n",
        "4. The 'Installs' column contained install counts with values like '1,000+', '10,000+', etc. These values were converted to numeric format, representing the lower bound of the install count range.\n",
        "5. The 'Price' column contained price values with a dollar sign ('$') and different decimal places. These values were converted to numeric format, representing the price in dollars.\n",
        "6. The 'Content Rating' column was explored to understand the distribution of content ratings among the apps.\n",
        "7. The 'Category' column was examined to determine the frequency of each app category.\n",
        "8. The 'Rating' column was analyzed to understand the distribution and average rating of the apps.\n",
        "9. The 'Size' column was explored to determine the range and distribution of app sizes.\n",
        "10. The 'Installs' column was analyzed to understand the range and distribution of app install counts.\n",
        "11. The 'Price' column was examined to determine the range and distribution of app prices.\n",
        "\n",
        "It's important to note that the specific insights and conclusions drawn from the dataset would depend on the detailed analysis and specific questions being addressed. The above points highlight the general manipulations performed and potential avenues for exploration based on the available data.Answer Here."
      ],
      "metadata": {
        "id": "LbyXE7I1olp8"
      }
    },
    {
      "cell_type": "markdown",
      "source": [
        "## ***4. Data Vizualization, Storytelling & Experimenting with charts : Understand the relationships between variables***"
      ],
      "metadata": {
        "id": "GF8Ens_Soomf"
      }
    },
    {
      "cell_type": "markdown",
      "source": [
        "#### Chart - 1"
      ],
      "metadata": {
        "id": "0wOQAZs5pc--"
      }
    },
    {
      "cell_type": "code",
      "source": [
        "# Chart - 1 visualization code\n",
        "#checking the null values through seaborn \n",
        "\n",
        "sns.heatmap(data.isnull(),yticklabels=False,cbar=False,cmap='viridis')"
      ],
      "metadata": {
        "id": "7v_ESjsspbW7"
      },
      "execution_count": null,
      "outputs": []
    },
    {
      "cell_type": "markdown",
      "source": [
        "##### 1. Why did you pick the specific chart?"
      ],
      "metadata": {
        "id": "K5QZ13OEpz2H"
      }
    },
    {
      "cell_type": "markdown",
      "source": [
        "Answer Here."
      ],
      "metadata": {
        "id": "XESiWehPqBRc"
      }
    },
    {
      "cell_type": "markdown",
      "source": [
        "##### 2. What is/are the insight(s) found from the chart?"
      ],
      "metadata": {
        "id": "lQ7QKXXCp7Bj"
      }
    },
    {
      "cell_type": "markdown",
      "source": [
        "Answer Here"
      ],
      "metadata": {
        "id": "C_j1G7yiqdRP"
      }
    },
    {
      "cell_type": "markdown",
      "source": [
        "##### 3. Will the gained insights help creating a positive business impact? \n",
        "Are there any insights that lead to negative growth? Justify with specific reason."
      ],
      "metadata": {
        "id": "448CDAPjqfQr"
      }
    },
    {
      "cell_type": "markdown",
      "source": [
        "Answer Here"
      ],
      "metadata": {
        "id": "3cspy4FjqxJW"
      }
    },
    {
      "cell_type": "markdown",
      "source": [
        "#### Chart - 2"
      ],
      "metadata": {
        "id": "KSlN3yHqYklG"
      }
    },
    {
      "cell_type": "code",
      "source": [
        "# Chart - 2 visualization code\n",
        "# how many people intalled the free and paid app \n",
        "\n",
        "sns.set_style('whitegrid')\n",
        "sns.countplot(x='Type',data=data)"
      ],
      "metadata": {
        "id": "R4YgtaqtYklH"
      },
      "execution_count": null,
      "outputs": []
    },
    {
      "cell_type": "code",
      "source": [
        "## PIE CHART FOR FREE VS PAID APPS IN STORE\n",
        "\n",
        "plt.figure(figsize=(8,8))\n",
        "count = data['Type'].value_counts()\n",
        "plt.pie(count, explode=(0.25,0), labels=['Free', 'Paid'], autopct='%1.1f%%', shadow=True, startangle=270)\n",
        "plt.title('Percent of Free Vs Paid Apps in store', size = 16)\n",
        "plt.show()"
      ],
      "metadata": {
        "id": "RtF1aFSddav8"
      },
      "execution_count": null,
      "outputs": []
    },
    {
      "cell_type": "markdown",
      "source": [
        "##### 1. Why did you pick the specific chart?"
      ],
      "metadata": {
        "id": "t6dVpIINYklI"
      }
    },
    {
      "cell_type": "code",
      "source": [],
      "metadata": {
        "id": "PFM2o_HybcP_"
      },
      "execution_count": null,
      "outputs": []
    },
    {
      "cell_type": "markdown",
      "source": [
        "Answer Here."
      ],
      "metadata": {
        "id": "5aaW0BYyYklI"
      }
    },
    {
      "cell_type": "markdown",
      "source": [
        "##### 2. What is/are the insight(s) found from the chart?"
      ],
      "metadata": {
        "id": "ijmpgYnKYklI"
      }
    },
    {
      "cell_type": "markdown",
      "source": [
        "Answer Here"
      ],
      "metadata": {
        "id": "PSx9atu2YklI"
      }
    },
    {
      "cell_type": "markdown",
      "source": [
        "##### 3. Will the gained insights help creating a positive business impact? \n",
        "Are there any insights that lead to negative growth? Justify with specific reason."
      ],
      "metadata": {
        "id": "-JiQyfWJYklI"
      }
    },
    {
      "cell_type": "markdown",
      "source": [
        "Answer Here"
      ],
      "metadata": {
        "id": "BcBbebzrYklV"
      }
    },
    {
      "cell_type": "markdown",
      "source": [
        "#### Chart - 3"
      ],
      "metadata": {
        "id": "EM7whBJCYoAo"
      }
    },
    {
      "cell_type": "code",
      "source": [
        "# Chart - 3 visualization code\n",
        "sns.set_style('whitegrid')\n",
        "sns.countplot(x='Installs',data=data)"
      ],
      "metadata": {
        "id": "t6GMdE67YoAp"
      },
      "execution_count": null,
      "outputs": []
    },
    {
      "cell_type": "markdown",
      "source": [
        "##### 1. Why did you pick the specific chart?"
      ],
      "metadata": {
        "id": "fge-S5ZAYoAp"
      }
    },
    {
      "cell_type": "markdown",
      "source": [
        "Answer Here."
      ],
      "metadata": {
        "id": "5dBItgRVYoAp"
      }
    },
    {
      "cell_type": "markdown",
      "source": [
        "##### 2. What is/are the insight(s) found from the chart?"
      ],
      "metadata": {
        "id": "85gYPyotYoAp"
      }
    },
    {
      "cell_type": "markdown",
      "source": [
        "Answer Here"
      ],
      "metadata": {
        "id": "4jstXR6OYoAp"
      }
    },
    {
      "cell_type": "markdown",
      "source": [
        "##### 3. Will the gained insights help creating a positive business impact? \n",
        "Are there any insights that lead to negative growth? Justify with specific reason."
      ],
      "metadata": {
        "id": "RoGjAbkUYoAp"
      }
    },
    {
      "cell_type": "markdown",
      "source": [
        "Answer Here"
      ],
      "metadata": {
        "id": "zfJ8IqMcYoAp"
      }
    },
    {
      "cell_type": "markdown",
      "source": [
        "#### Chart - 4"
      ],
      "metadata": {
        "id": "4Of9eVA-YrdM"
      }
    },
    {
      "cell_type": "code",
      "source": [
        "# Chart - 4 visualization code\n",
        "## TOTAL MARKET SIZE\n",
        "\n",
        "total_installs = data[\"Installs\"].sum()\n",
        "print('Total number of apps\\' downloads: +', total_installs)\n",
        "\n",
        "data['total_profit'] = data['Installs'] * data['Price']\n",
        "print('Total amount of money spent on paid apps: $', round(data['total_profit'].sum(),2), end='\\n')\n",
        "\n",
        "## TOTAL MARKET SIZE BY INSTALLS && TOTAL_PROFIT\n",
        "\n",
        "total_cat = data.groupby('Category').sum().sort_values(by='Installs', ascending=False)\n",
        "\n",
        "fig, axes = plt.subplots(nrows=2, ncols=1, figsize=(12,16))\n",
        "_ = sns.barplot(x = total_cat.index, y = 'Installs', data = total_cat, palette=\"Greens_d\", ax=axes[0])\n",
        "_ = sns.barplot(x = total_cat.index, y = 'total_profit', data = total_cat, palette=\"Blues_d\", ax=axes[1])\n",
        "plt.xticks(rotation=90)\n",
        "plt.tight_layout()"
      ],
      "metadata": {
        "id": "irlUoxc8YrdO"
      },
      "execution_count": null,
      "outputs": []
    },
    {
      "cell_type": "markdown",
      "source": [
        "##### 1. Why did you pick the specific chart?"
      ],
      "metadata": {
        "id": "iky9q4vBYrdO"
      }
    },
    {
      "cell_type": "markdown",
      "source": [
        "Answer Here."
      ],
      "metadata": {
        "id": "aJRCwT6DYrdO"
      }
    },
    {
      "cell_type": "markdown",
      "source": [
        "##### 2. What is/are the insight(s) found from the chart?"
      ],
      "metadata": {
        "id": "F6T5p64dYrdO"
      }
    },
    {
      "cell_type": "markdown",
      "source": [
        "Answer Here"
      ],
      "metadata": {
        "id": "Xx8WAJvtYrdO"
      }
    },
    {
      "cell_type": "markdown",
      "source": [
        "##### 3. Will the gained insights help creating a positive business impact? \n",
        "Are there any insights that lead to negative growth? Justify with specific reason."
      ],
      "metadata": {
        "id": "y-Ehk30pYrdP"
      }
    },
    {
      "cell_type": "markdown",
      "source": [
        "Answer Here"
      ],
      "metadata": {
        "id": "jLNxxz7MYrdP"
      }
    },
    {
      "cell_type": "markdown",
      "source": [
        "#### Chart - 5"
      ],
      "metadata": {
        "id": "bamQiAODYuh1"
      }
    },
    {
      "cell_type": "code",
      "source": [
        "# Chart - 5 visualization code\n",
        "## Average price of applications in each category\n",
        "\n",
        "\n",
        "\n",
        "fig = plt.figure(figsize=(16, 8))\n",
        "g = data.groupby('Category').mean().sort_values(by='Price', ascending=False)['Price'].plot(kind='barh', title='Price in USD', fontsize=10)\n",
        "plt.ylabel('App category')\n",
        "plt.xlabel('Average price - USD')"
      ],
      "metadata": {
        "id": "TIJwrbroYuh3"
      },
      "execution_count": null,
      "outputs": []
    },
    {
      "cell_type": "markdown",
      "source": [
        "##### 1. Why did you pick the specific chart?"
      ],
      "metadata": {
        "id": "QHF8YVU7Yuh3"
      }
    },
    {
      "cell_type": "markdown",
      "source": [
        "Answer Here."
      ],
      "metadata": {
        "id": "dcxuIMRPYuh3"
      }
    },
    {
      "cell_type": "markdown",
      "source": [
        "##### 2. What is/are the insight(s) found from the chart?"
      ],
      "metadata": {
        "id": "GwzvFGzlYuh3"
      }
    },
    {
      "cell_type": "markdown",
      "source": [
        "Answer Here"
      ],
      "metadata": {
        "id": "uyqkiB8YYuh3"
      }
    },
    {
      "cell_type": "markdown",
      "source": [
        "##### 3. Will the gained insights help creating a positive business impact? \n",
        "Are there any insights that lead to negative growth? Justify with specific reason."
      ],
      "metadata": {
        "id": "qYpmQ266Yuh3"
      }
    },
    {
      "cell_type": "markdown",
      "source": [
        "Answer Here"
      ],
      "metadata": {
        "id": "_WtzZ_hCYuh4"
      }
    },
    {
      "cell_type": "markdown",
      "source": [
        "#### Chart - 6"
      ],
      "metadata": {
        "id": "OH-pJp9IphqM"
      }
    },
    {
      "cell_type": "code",
      "source": [
        "# Chart - 6 visualization code\n",
        "## Countplot of each Category\n",
        "\n",
        "plt.figure(figsize=(20,5))\n",
        "fig = sns.countplot(x=data['Category'], palette=\"hls\")\n",
        "fig.set_xticklabels(fig.get_xticklabels(),rotation=90)\n",
        "plt.show(fig)"
      ],
      "metadata": {
        "id": "kuRf4wtuphqN"
      },
      "execution_count": null,
      "outputs": []
    },
    {
      "cell_type": "markdown",
      "source": [
        "##### 1. Why did you pick the specific chart?"
      ],
      "metadata": {
        "id": "bbFf2-_FphqN"
      }
    },
    {
      "cell_type": "markdown",
      "source": [
        "Answer Here."
      ],
      "metadata": {
        "id": "loh7H2nzphqN"
      }
    },
    {
      "cell_type": "markdown",
      "source": [
        "##### 2. What is/are the insight(s) found from the chart?"
      ],
      "metadata": {
        "id": "_ouA3fa0phqN"
      }
    },
    {
      "cell_type": "markdown",
      "source": [
        "Answer Here"
      ],
      "metadata": {
        "id": "VECbqPI7phqN"
      }
    },
    {
      "cell_type": "markdown",
      "source": [
        "##### 3. Will the gained insights help creating a positive business impact? \n",
        "Are there any insights that lead to negative growth? Justify with specific reason."
      ],
      "metadata": {
        "id": "Seke61FWphqN"
      }
    },
    {
      "cell_type": "markdown",
      "source": [
        "Answer Here"
      ],
      "metadata": {
        "id": "DW4_bGpfphqN"
      }
    },
    {
      "cell_type": "markdown",
      "source": [
        "#### Chart - 7"
      ],
      "metadata": {
        "id": "PIIx-8_IphqN"
      }
    },
    {
      "cell_type": "code",
      "source": [
        "# Chart - 7 visualization code\n",
        "\n",
        "plt.figure(figsize=(13,10), dpi= 80)\n",
        "_ = sns.set_context(\"notebook\")\n",
        "ax = sns.boxplot(x='Rating', y='Category', data=data , notch=False)\n",
        "\n",
        "ax.set_title('Distribution of App Ratings' , size = 20)"
      ],
      "metadata": {
        "id": "lqAIGUfyphqO"
      },
      "execution_count": null,
      "outputs": []
    },
    {
      "cell_type": "markdown",
      "source": [
        "##### 1. Why did you pick the specific chart?"
      ],
      "metadata": {
        "id": "t27r6nlMphqO"
      }
    },
    {
      "cell_type": "markdown",
      "source": [
        "Answer Here."
      ],
      "metadata": {
        "id": "iv6ro40sphqO"
      }
    },
    {
      "cell_type": "markdown",
      "source": [
        "##### 2. What is/are the insight(s) found from the chart?"
      ],
      "metadata": {
        "id": "r2jJGEOYphqO"
      }
    },
    {
      "cell_type": "markdown",
      "source": [
        "Answer Here"
      ],
      "metadata": {
        "id": "Po6ZPi4hphqO"
      }
    },
    {
      "cell_type": "markdown",
      "source": [
        "##### 3. Will the gained insights help creating a positive business impact? \n",
        "Are there any insights that lead to negative growth? Justify with specific reason."
      ],
      "metadata": {
        "id": "b0JNsNcRphqO"
      }
    },
    {
      "cell_type": "markdown",
      "source": [
        "Answer Here"
      ],
      "metadata": {
        "id": "xvSq8iUTphqO"
      }
    },
    {
      "cell_type": "markdown",
      "source": [
        "#### Chart - 8"
      ],
      "metadata": {
        "id": "BZR9WyysphqO"
      }
    },
    {
      "cell_type": "code",
      "source": [
        "# Chart - 8 visualization code\n",
        "\n",
        "\n",
        "plt.figure(figsize=(10,10))\n",
        "_ = sns.jointplot(x='Reviews',y='Rating',data=data,color='green',size=9)\n",
        "plt.title('Rating and Reviews of Jointplot')\n",
        "plt.show()"
      ],
      "metadata": {
        "id": "TdPTWpAVphqO"
      },
      "execution_count": null,
      "outputs": []
    },
    {
      "cell_type": "markdown",
      "source": [
        "##### 1. Why did you pick the specific chart?"
      ],
      "metadata": {
        "id": "jj7wYXLtphqO"
      }
    },
    {
      "cell_type": "markdown",
      "source": [
        "Answer Here."
      ],
      "metadata": {
        "id": "Ob8u6rCTphqO"
      }
    },
    {
      "cell_type": "markdown",
      "source": [
        "##### 2. What is/are the insight(s) found from the chart?"
      ],
      "metadata": {
        "id": "eZrbJ2SmphqO"
      }
    },
    {
      "cell_type": "markdown",
      "source": [
        "Answer Here"
      ],
      "metadata": {
        "id": "mZtgC_hjphqO"
      }
    },
    {
      "cell_type": "markdown",
      "source": [
        "##### 3. Will the gained insights help creating a positive business impact? \n",
        "Are there any insights that lead to negative growth? Justify with specific reason."
      ],
      "metadata": {
        "id": "rFu4xreNphqO"
      }
    },
    {
      "cell_type": "markdown",
      "source": [
        "Answer Here"
      ],
      "metadata": {
        "id": "ey_0qi68phqO"
      }
    },
    {
      "cell_type": "markdown",
      "source": [
        "#### Chart - 9"
      ],
      "metadata": {
        "id": "YJ55k-q6phqO"
      }
    },
    {
      "cell_type": "code",
      "source": [
        "# Chart - 9 visualization code\n",
        "\n",
        "\n",
        "plt.figure(figsize = (10,10))\n",
        "_ = sns.regplot(x=\"Price\", y=\"Rating\", color='teal', data=data[data['Reviews']<1000000]);\n",
        "plt.title('Scatter plot Rating VS Price',size = 15)"
      ],
      "metadata": {
        "id": "B2aS4O1ophqO"
      },
      "execution_count": null,
      "outputs": []
    },
    {
      "cell_type": "markdown",
      "source": [
        "##### 1. Why did you pick the specific chart?"
      ],
      "metadata": {
        "id": "gCFgpxoyphqP"
      }
    },
    {
      "cell_type": "markdown",
      "source": [
        "Answer Here."
      ],
      "metadata": {
        "id": "TVxDimi2phqP"
      }
    },
    {
      "cell_type": "markdown",
      "source": [
        "##### 2. What is/are the insight(s) found from the chart?"
      ],
      "metadata": {
        "id": "OVtJsKN_phqQ"
      }
    },
    {
      "cell_type": "markdown",
      "source": [
        "Answer Here"
      ],
      "metadata": {
        "id": "ngGi97qjphqQ"
      }
    },
    {
      "cell_type": "markdown",
      "source": [
        "##### 3. Will the gained insights help creating a positive business impact? \n",
        "Are there any insights that lead to negative growth? Justify with specific reason."
      ],
      "metadata": {
        "id": "lssrdh5qphqQ"
      }
    },
    {
      "cell_type": "markdown",
      "source": [
        "Answer Here"
      ],
      "metadata": {
        "id": "tBpY5ekJphqQ"
      }
    },
    {
      "cell_type": "markdown",
      "source": [
        "#### Chart - 10"
      ],
      "metadata": {
        "id": "U2RJ9gkRphqQ"
      }
    },
    {
      "cell_type": "code",
      "source": [
        "# Chart - 10 visualization code\n",
        "## Content Rating for each of Categories\n",
        "\n",
        "fig = plt.figure(figsize=(16,8)) \n",
        "labels = data['Content Rating'].value_counts(sort = True).index\n",
        "sizes = data['Content Rating'].value_counts(sort = True)\n",
        "plt.pie(sizes,labels=labels,autopct='%1.1f%%', shadow=True)\n",
        "plt.title('Content Rating',size = 20)\n",
        "plt.show()"
      ],
      "metadata": {
        "id": "GM7a4YP4phqQ"
      },
      "execution_count": null,
      "outputs": []
    },
    {
      "cell_type": "markdown",
      "source": [
        "##### 1. Why did you pick the specific chart?"
      ],
      "metadata": {
        "id": "1M8mcRywphqQ"
      }
    },
    {
      "cell_type": "markdown",
      "source": [
        "Answer Here."
      ],
      "metadata": {
        "id": "8agQvks0phqQ"
      }
    },
    {
      "cell_type": "markdown",
      "source": [
        "##### 2. What is/are the insight(s) found from the chart?"
      ],
      "metadata": {
        "id": "tgIPom80phqQ"
      }
    },
    {
      "cell_type": "markdown",
      "source": [
        "Answer Here"
      ],
      "metadata": {
        "id": "Qp13pnNzphqQ"
      }
    },
    {
      "cell_type": "markdown",
      "source": [
        "##### 3. Will the gained insights help creating a positive business impact? \n",
        "Are there any insights that lead to negative growth? Justify with specific reason."
      ],
      "metadata": {
        "id": "JMzcOPDDphqR"
      }
    },
    {
      "cell_type": "markdown",
      "source": [
        "Answer Here"
      ],
      "metadata": {
        "id": "R4Ka1PC2phqR"
      }
    },
    {
      "cell_type": "markdown",
      "source": [
        "#### Chart - 11"
      ],
      "metadata": {
        "id": "x-EpHcCOp1ci"
      }
    },
    {
      "cell_type": "code",
      "source": [
        "# Chart - 11 visualization code\n",
        "\n",
        "## Count of Content Rating for each group\n",
        "\n",
        "plt.figure(figsize=(6,3))\n",
        "fig = sns.countplot(x=data['Content Rating'], palette=\"hls\")\n",
        "fig.set_xticklabels(fig.get_xticklabels(),rotation=90)\n",
        "plt.show(fig)"
      ],
      "metadata": {
        "id": "mAQTIvtqp1cj"
      },
      "execution_count": null,
      "outputs": []
    },
    {
      "cell_type": "markdown",
      "source": [
        "##### 1. Why did you pick the specific chart?"
      ],
      "metadata": {
        "id": "X_VqEhTip1ck"
      }
    },
    {
      "cell_type": "markdown",
      "source": [
        "Answer Here."
      ],
      "metadata": {
        "id": "-vsMzt_np1ck"
      }
    },
    {
      "cell_type": "markdown",
      "source": [
        "##### 2. What is/are the insight(s) found from the chart?"
      ],
      "metadata": {
        "id": "8zGJKyg5p1ck"
      }
    },
    {
      "cell_type": "markdown",
      "source": [
        "Answer Here"
      ],
      "metadata": {
        "id": "ZYdMsrqVp1ck"
      }
    },
    {
      "cell_type": "markdown",
      "source": [
        "##### 3. Will the gained insights help creating a positive business impact? \n",
        "Are there any insights that lead to negative growth? Justify with specific reason."
      ],
      "metadata": {
        "id": "PVzmfK_Ep1ck"
      }
    },
    {
      "cell_type": "markdown",
      "source": [
        "Answer Here"
      ],
      "metadata": {
        "id": "druuKYZpp1ck"
      }
    },
    {
      "cell_type": "markdown",
      "source": [
        "#### Chart - 12"
      ],
      "metadata": {
        "id": "n3dbpmDWp1ck"
      }
    },
    {
      "cell_type": "code",
      "source": [
        "# Chart - 12 visualization code\n",
        "\n",
        "data_cont =  data.groupby('Content Rating')['Installs'].agg('sum').reset_index(name='Number_Installations')\n",
        "plt.figure(figsize=(10,5))\n",
        "sns.barplot(x=data_cont['Content Rating'], y=data_cont['Number_Installations'])\n",
        "plt.show()"
      ],
      "metadata": {
        "id": "bwevp1tKp1ck"
      },
      "execution_count": null,
      "outputs": []
    },
    {
      "cell_type": "markdown",
      "source": [
        "##### 1. Why did you pick the specific chart?"
      ],
      "metadata": {
        "id": "ylSl6qgtp1ck"
      }
    },
    {
      "cell_type": "markdown",
      "source": [
        "Answer Here."
      ],
      "metadata": {
        "id": "m2xqNkiQp1ck"
      }
    },
    {
      "cell_type": "markdown",
      "source": [
        "##### 2. What is/are the insight(s) found from the chart?"
      ],
      "metadata": {
        "id": "ZWILFDl5p1ck"
      }
    },
    {
      "cell_type": "markdown",
      "source": [
        "Answer Here"
      ],
      "metadata": {
        "id": "x-lUsV2mp1ck"
      }
    },
    {
      "cell_type": "markdown",
      "source": [
        "##### 3. Will the gained insights help creating a positive business impact? \n",
        "Are there any insights that lead to negative growth? Justify with specific reason."
      ],
      "metadata": {
        "id": "M7G43BXep1ck"
      }
    },
    {
      "cell_type": "markdown",
      "source": [
        "Answer Here"
      ],
      "metadata": {
        "id": "5wwDJXsLp1cl"
      }
    },
    {
      "cell_type": "markdown",
      "source": [
        "#### Chart - 13"
      ],
      "metadata": {
        "id": "Ag9LCva-p1cl"
      }
    },
    {
      "cell_type": "code",
      "source": [
        "# Chart - 13 visualization code\n",
        "\n",
        "#histogram to visualize the distribution of sentiment polarity values. \n",
        "data[\"Sentiment_Polarity\"].plot(kind=\"hist\", bins=10)\n",
        "plt.xlabel(\"Sentiment Polarity\")\n",
        "plt.ylabel(\"Frequency\")\n",
        "plt.title(\"Distribution of Sentiment Polarity\")\n",
        "plt.show()\n"
      ],
      "metadata": {
        "id": "EUfxeq9-p1cl"
      },
      "execution_count": null,
      "outputs": []
    },
    {
      "cell_type": "markdown",
      "source": [
        "##### 1. Why did you pick the specific chart?"
      ],
      "metadata": {
        "id": "E6MkPsBcp1cl"
      }
    },
    {
      "cell_type": "markdown",
      "source": [
        "Answer Here."
      ],
      "metadata": {
        "id": "V22bRsFWp1cl"
      }
    },
    {
      "cell_type": "markdown",
      "source": [
        "##### 2. What is/are the insight(s) found from the chart?"
      ],
      "metadata": {
        "id": "2cELzS2fp1cl"
      }
    },
    {
      "cell_type": "markdown",
      "source": [
        "Answer Here"
      ],
      "metadata": {
        "id": "ozQPc2_Ip1cl"
      }
    },
    {
      "cell_type": "markdown",
      "source": [
        "##### 3. Will the gained insights help creating a positive business impact? \n",
        "Are there any insights that lead to negative growth? Justify with specific reason."
      ],
      "metadata": {
        "id": "3MPXvC8up1cl"
      }
    },
    {
      "cell_type": "markdown",
      "source": [
        "Answer Here"
      ],
      "metadata": {
        "id": "GL8l1tdLp1cl"
      }
    },
    {
      "cell_type": "markdown",
      "source": [
        "#### Chart - 14 - Correlation Heatmap"
      ],
      "metadata": {
        "id": "NC_X3p0fY2L0"
      }
    },
    {
      "cell_type": "code",
      "source": [
        "# Correlation Heatmap visualization code\n",
        "\n",
        "f,ax = plt.subplots(figsize=(12, 12))\n",
        "sns.heatmap(data.corr(), annot=True, linewidths=.5, fmt= '.1f',ax=ax)\n",
        "plt.show()\n"
      ],
      "metadata": {
        "id": "xyC9zolEZNRQ"
      },
      "execution_count": null,
      "outputs": []
    },
    {
      "cell_type": "markdown",
      "source": [
        "##### 1. Why did you pick the specific chart?"
      ],
      "metadata": {
        "id": "UV0SzAkaZNRQ"
      }
    },
    {
      "cell_type": "markdown",
      "source": [
        "Answer Here."
      ],
      "metadata": {
        "id": "DVPuT8LYZNRQ"
      }
    },
    {
      "cell_type": "markdown",
      "source": [
        "##### 2. What is/are the insight(s) found from the chart?"
      ],
      "metadata": {
        "id": "YPEH6qLeZNRQ"
      }
    },
    {
      "cell_type": "markdown",
      "source": [
        "Answer Here"
      ],
      "metadata": {
        "id": "bfSqtnDqZNRR"
      }
    },
    {
      "cell_type": "markdown",
      "source": [
        "#### Chart - 15 - Pair Plot "
      ],
      "metadata": {
        "id": "q29F0dvdveiT"
      }
    },
    {
      "cell_type": "code",
      "source": [
        "# Pair Plot visualization code\n",
        "\n",
        "\n",
        "import seaborn as sns\n",
        "import matplotlib.pyplot as plt\n",
        "\n",
        "# Load the data\n",
        "data = sns.load_dataset('tips')\n",
        "\n",
        "# Create the pair plot\n",
        "sns.pairplot(data)\n",
        "\n",
        "# Show the plot\n",
        "plt.show()\n"
      ],
      "metadata": {
        "id": "o58-TEIhveiU"
      },
      "execution_count": null,
      "outputs": []
    },
    {
      "cell_type": "markdown",
      "source": [
        "##### 1. Why did you pick the specific chart?"
      ],
      "metadata": {
        "id": "EXh0U9oCveiU"
      }
    },
    {
      "cell_type": "markdown",
      "source": [
        "Answer Here."
      ],
      "metadata": {
        "id": "eMmPjTByveiU"
      }
    },
    {
      "cell_type": "markdown",
      "source": [
        "##### 2. What is/are the insight(s) found from the chart?"
      ],
      "metadata": {
        "id": "22aHeOlLveiV"
      }
    },
    {
      "cell_type": "markdown",
      "source": [
        "Answer Here"
      ],
      "metadata": {
        "id": "uPQ8RGwHveiV"
      }
    },
    {
      "cell_type": "code",
      "source": [
        "# a scatter plot to visualize the relationship between sentiment polarity and subjectivity.\n",
        "\n",
        "\n",
        "data.plot(x=\"Sentiment_Polarity\", y=\"Sentiment_Subjectivity\", kind=\"scatter\")\n",
        "plt.xlabel(\"Sentiment Polarity\")\n",
        "plt.ylabel(\"Sentiment Subjectivity\")\n",
        "plt.title(\"Sentiment Polarity vs. Sentiment Subjectivity\")\n",
        "plt.show()\n"
      ],
      "metadata": {
        "id": "9Spez4UJ6RUA"
      },
      "execution_count": null,
      "outputs": []
    },
    {
      "cell_type": "code",
      "source": [
        "sentiment_counts = data[\"Sentiment_Category\"].value_counts()\n",
        "sentiment_counts.plot(kind=\"bar\")\n",
        "plt.xlabel(\"Sentiment Category\")\n",
        "plt.ylabel(\"Count\")\n",
        "plt.title(\"Sentiment Category Counts\")\n",
        "plt.show()\n"
      ],
      "metadata": {
        "id": "cne_bGGA6qL8"
      },
      "execution_count": null,
      "outputs": []
    },
    {
      "cell_type": "code",
      "source": [
        "import matplotlib.pyplot as plt\n",
        "import seaborn as sns\n",
        "\n",
        "# App and Category - Bar Chart\n",
        "plt.figure(figsize=(12, 6))\n",
        "sns.countplot(data=data, x='Category')\n",
        "plt.xticks(rotation=90)\n",
        "plt.xlabel('Category')\n",
        "plt.ylabel('Count')\n",
        "plt.title('App Count by Category')\n",
        "plt.show()\n",
        "\n",
        "# Rating - Histogram\n",
        "plt.figure(figsize=(8, 6))\n",
        "plt.hist(data['Rating'], bins=10)\n",
        "plt.xlabel('Rating')\n",
        "plt.ylabel('Frequency')\n",
        "plt.title('Distribution of Ratings')\n",
        "plt.show()\n",
        "\n",
        "# Reviews - Scatter Plot\n",
        "plt.figure(figsize=(8, 6))\n",
        "plt.scatter(data['Reviews'], data['Rating'])\n",
        "plt.xlabel('Reviews')\n",
        "plt.ylabel('Rating')\n",
        "plt.title('Reviews vs Rating')\n",
        "plt.show()\n",
        "\n",
        "# Size - Histogram\n",
        "plt.figure(figsize=(8, 6))\n",
        "plt.hist(data['Size'], bins=10)\n",
        "plt.xlabel('Size')\n",
        "plt.ylabel('Frequency')\n",
        "plt.title('Distribution of App Sizes')\n",
        "plt.show()\n",
        "\n",
        "# Installs - Bar Chart\n",
        "plt.figure(figsize=(12, 6))\n",
        "sns.countplot(data=data, x='Installs')\n",
        "plt.xticks(rotation=90)\n",
        "plt.xlabel('Installs')\n",
        "plt.ylabel('Count')\n",
        "plt.title('App Count by Installs')\n",
        "plt.show()\n",
        "\n",
        "# Type - Pie Chart\n",
        "plt.figure(figsize=(8, 8))\n",
        "data['Type'].value_counts().plot(kind='pie', autopct='%1.1f%%')\n",
        "plt.title('App Types')\n",
        "plt.ylabel('')\n",
        "plt.show()\n",
        "\n",
        "# Price - Box Plot\n",
        "plt.figure(figsize=(8, 6))\n",
        "sns.boxplot(data=data, y='Price')\n",
        "plt.ylabel('Price')\n",
        "plt.title('Distribution of App Prices')\n",
        "plt.show()\n",
        "\n",
        "# Content Rating - Bar Chart\n",
        "plt.figure(figsize=(10, 6))\n",
        "sns.countplot(data=data, x='Content Rating')\n",
        "plt.xticks(rotation=90)\n",
        "plt.xlabel('Content Rating')\n",
        "plt.ylabel('Count')\n",
        "plt.title('App Count by Content Rating')\n",
        "plt.show()\n",
        "\n",
        "# Genres - Bar Chart\n",
        "plt.figure(figsize=(12, 6))\n",
        "sns.countplot(data=data, x='Genres')\n",
        "plt.xticks(rotation=90)\n",
        "plt.xlabel('Genres')\n",
        "plt.ylabel('Count')\n",
        "plt.title('App Count by Genres')\n",
        "plt.show()\n",
        "\n"
      ],
      "metadata": {
        "id": "rsraI8Ni7GDK"
      },
      "execution_count": null,
      "outputs": []
    },
    {
      "cell_type": "markdown",
      "source": [
        "## **5. Solution to Business Objective**"
      ],
      "metadata": {
        "id": "JcMwzZxoAimU"
      }
    },
    {
      "cell_type": "markdown",
      "source": [
        "#### What do you suggest the client to achieve Business Objective ? \n",
        "Explain Briefly."
      ],
      "metadata": {
        "id": "8G2x9gOozGDZ"
      }
    },
    {
      "cell_type": "markdown",
      "source": [
        "Answer Here."
      ],
      "metadata": {
        "id": "pASKb0qOza21"
      }
    },
    {
      "cell_type": "markdown",
      "source": [
        "# **Conclusion**"
      ],
      "metadata": {
        "id": "gCX9965dhzqZ"
      }
    },
    {
      "cell_type": "markdown",
      "source": [
        "It's good to develop a Free type app and having a content rating for Everyone.\n",
        "Percentage of apps that are top rated =                       81.80%\n",
        "There are 20 free apps that have been installed over a billion times\n",
        "Minecraft is the only app in the paid category with over 10M installs,  and also has produced the most revenue only from installation fee.\n",
        "Price, Rating, Size has no or very less correlation with Sentiment Polarity.\n",
        "The median size of the apps in the play store is 12 MB\n",
        "The apps whose size varies with device has the highest number  average app installs.\n",
        "The apps whose size is greater than 90 MB has the highest number  of average user reviews, i.e., they are more popular than the rest.\n",
        "Helix Jump has the highest number of positive reviews and Angry  Birds Classic has the highest number of negative reviews.Write the conclusion here."
      ],
      "metadata": {
        "id": "Fjb1IsQkh3yE"
      }
    },
    {
      "cell_type": "markdown",
      "source": [
        "### ***Hurrah! You have successfully completed your EDA Capstone Project !!!***"
      ],
      "metadata": {
        "id": "gIfDvo9L0UH2"
      }
    }
  ]
}